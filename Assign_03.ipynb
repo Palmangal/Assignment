{
 "cells": [
  {
   "cell_type": "code",
   "execution_count": null,
   "id": "e035d147-5926-4022-9910-e7ebe8b965ac",
   "metadata": {},
   "outputs": [],
   "source": [
    "#1 . Why are functions advantageous to have in your programs?"
   ]
  },
  {
   "cell_type": "code",
   "execution_count": 1,
   "id": "60dda94d-7647-4487-b8d6-53debe580179",
   "metadata": {},
   "outputs": [],
   "source": [
    "# you can use function as pre defined function. It makes your program easied and shorter. "
   ]
  },
  {
   "cell_type": "code",
   "execution_count": 2,
   "id": "34224fb4-9ed2-425a-9ab5-3b9cb6538fa4",
   "metadata": {},
   "outputs": [],
   "source": [
    "#2 .When does the code in a function run: when it's specified or when it's called?"
   ]
  },
  {
   "cell_type": "code",
   "execution_count": 3,
   "id": "9c82946d-466a-46b3-9a1d-e37b688caf15",
   "metadata": {},
   "outputs": [],
   "source": [
    "#The code in function executes, when its called not when its specified.\n"
   ]
  },
  {
   "cell_type": "code",
   "execution_count": 4,
   "id": "a9403e34-c390-4a33-9379-2dc2bb0cd192",
   "metadata": {},
   "outputs": [],
   "source": [
    "#3. What statement creates a function?"
   ]
  },
  {
   "cell_type": "code",
   "execution_count": 5,
   "id": "d53450ce-6f62-4f85-abec-08748fb3498d",
   "metadata": {},
   "outputs": [],
   "source": [
    "# The def statement creates a function. \n"
   ]
  },
  {
   "cell_type": "code",
   "execution_count": 6,
   "id": "a69a9697-cd04-4016-b18b-2c697642ea2a",
   "metadata": {},
   "outputs": [],
   "source": [
    "#4 . What is the difference between a function and a function call?"
   ]
  },
  {
   "cell_type": "code",
   "execution_count": 7,
   "id": "5d6a5e15-7046-4b24-a1c7-3d4d3d397699",
   "metadata": {},
   "outputs": [],
   "source": [
    "# function that we define with code. bue when we call function it executes the code."
   ]
  },
  {
   "cell_type": "code",
   "execution_count": 8,
   "id": "f79e846f-bc7a-4d26-8529-89fc26a09cc9",
   "metadata": {},
   "outputs": [],
   "source": [
    "#5 . How many global scopes are there in a Python program? How many local scopes?"
   ]
  },
  {
   "cell_type": "code",
   "execution_count": 9,
   "id": "76fa78f5-6934-42d1-94fd-f2b87f225a69",
   "metadata": {},
   "outputs": [],
   "source": [
    "# One global scope is there and  "
   ]
  },
  {
   "cell_type": "code",
   "execution_count": 10,
   "id": "0ade31e1-1fb8-4687-ace7-e7abf48818f6",
   "metadata": {},
   "outputs": [],
   "source": [
    "#6. What happens to variables in a local scope when the function call returns?"
   ]
  },
  {
   "cell_type": "code",
   "execution_count": 11,
   "id": "589c683c-abc8-4648-926d-44a4837aff2b",
   "metadata": {},
   "outputs": [],
   "source": [
    "# It destroy all the local variables when function call returns"
   ]
  },
  {
   "cell_type": "code",
   "execution_count": 12,
   "id": "fefe0e09-d55b-447b-8d73-79fdafe89062",
   "metadata": {},
   "outputs": [],
   "source": [
    "#7 . What is the concept of a return value? Is it possible to have a return value in an expression?"
   ]
  },
  {
   "cell_type": "code",
   "execution_count": 13,
   "id": "fb99c0b1-c13b-4cf3-99bb-17e949e88f3d",
   "metadata": {},
   "outputs": [],
   "source": [
    "# return value is a value that a function call evaluates to. yes , it can be a part of expression. \n"
   ]
  },
  {
   "cell_type": "code",
   "execution_count": 14,
   "id": "85dafdc0-dc02-40da-9e64-562bcada2cb1",
   "metadata": {},
   "outputs": [],
   "source": [
    "#8 . If a function does not have a return statement, what is the return value of a call to that function?"
   ]
  },
  {
   "cell_type": "code",
   "execution_count": 1,
   "id": "c021bd82-a6fc-4d32-9b14-eeb4fef6aa1b",
   "metadata": {},
   "outputs": [],
   "source": [
    "# if it does not have a return statement , return value is none in this case. "
   ]
  },
  {
   "cell_type": "code",
   "execution_count": 2,
   "id": "01b52ad6-bf69-49b1-95d8-b5c40a572f6c",
   "metadata": {},
   "outputs": [],
   "source": [
    "#9  .How do you make a function variable refer to the global variable?"
   ]
  },
  {
   "cell_type": "code",
   "execution_count": null,
   "id": "a971b127-81d3-4c05-a2c7-5ea9afa2e3b9",
   "metadata": {},
   "outputs": [],
   "source": [
    "# To make a global variable , we use Global Keyword. "
   ]
  },
  {
   "cell_type": "code",
   "execution_count": 5,
   "id": "78f19599-e9d2-47b8-959d-97b86e44c64b",
   "metadata": {},
   "outputs": [],
   "source": [
    "#10 . What is the data type of None?"
   ]
  },
  {
   "cell_type": "code",
   "execution_count": 6,
   "id": "72b92bcf-15f4-44b2-8cb1-71c56fd8c51d",
   "metadata": {},
   "outputs": [],
   "source": [
    "# Nonetype"
   ]
  },
  {
   "cell_type": "code",
   "execution_count": 7,
   "id": "4e9a3a16-2eae-4657-914c-7e5af837aa75",
   "metadata": {},
   "outputs": [],
   "source": [
    "#11. What does the sentence import areallyourpetsnamederic do?"
   ]
  },
  {
   "cell_type": "code",
   "execution_count": 8,
   "id": "af311ede-73da-4132-9bf1-cbc6cdc1d7e0",
   "metadata": {},
   "outputs": [],
   "source": [
    "# That import statement imports a module named areallyourpetsnamederic."
   ]
  },
  {
   "cell_type": "code",
   "execution_count": 9,
   "id": "820107c1-fa27-425b-ab5d-349ca4b3bbb7",
   "metadata": {},
   "outputs": [],
   "source": [
    "#12. If you had a bacon() feature in a spam module, what would you call it after importing spam?"
   ]
  },
  {
   "cell_type": "code",
   "execution_count": 10,
   "id": "612c9652-3698-4766-a586-356f4a6bd866",
   "metadata": {},
   "outputs": [],
   "source": [
    "# This function can be called as spam.bacon()"
   ]
  },
  {
   "cell_type": "code",
   "execution_count": 11,
   "id": "cf8e46c4-d29e-49f2-8d16-691ea22211e7",
   "metadata": {},
   "outputs": [],
   "source": [
    "#13 . What can you do to save a programme from crashing if it encounters an error?"
   ]
  },
  {
   "cell_type": "code",
   "execution_count": 12,
   "id": "afaf97a3-2672-4923-b30b-c87689780a65",
   "metadata": {},
   "outputs": [],
   "source": [
    "#  Place the line of code that might cause an error in a try clause."
   ]
  },
  {
   "cell_type": "code",
   "execution_count": 13,
   "id": "13b5df4f-6562-4ee2-9efe-2dca14d19373",
   "metadata": {},
   "outputs": [],
   "source": [
    "#14. What is the purpose of the try clause? What is the purpose of the except clause?"
   ]
  },
  {
   "cell_type": "code",
   "execution_count": 14,
   "id": "e635400f-582e-472f-843e-5e85a99158f8",
   "metadata": {},
   "outputs": [],
   "source": [
    "# Try clause save program from crashing when any error ccours , Except clause is used to catch and handle the exception(s) that are encountered in the try clause."
   ]
  }
 ],
 "metadata": {
  "kernelspec": {
   "display_name": "Python 3 (ipykernel)",
   "language": "python",
   "name": "python3"
  },
  "language_info": {
   "codemirror_mode": {
    "name": "ipython",
    "version": 3
   },
   "file_extension": ".py",
   "mimetype": "text/x-python",
   "name": "python",
   "nbconvert_exporter": "python",
   "pygments_lexer": "ipython3",
   "version": "3.10.6"
  }
 },
 "nbformat": 4,
 "nbformat_minor": 5
}
