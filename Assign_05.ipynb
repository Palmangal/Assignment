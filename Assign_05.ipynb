{
 "cells": [
  {
   "cell_type": "code",
   "execution_count": 1,
   "id": "7d86d50f-ccb7-4942-af8f-7a096349f70c",
   "metadata": {},
   "outputs": [],
   "source": [
    "#1. What does an empty dictionary's code look like?"
   ]
  },
  {
   "cell_type": "code",
   "execution_count": 8,
   "id": "fd6af8c9-2294-4242-84dc-9300c273650d",
   "metadata": {},
   "outputs": [],
   "source": [
    "# {}"
   ]
  },
  {
   "cell_type": "code",
   "execution_count": 9,
   "id": "4420b35c-8ee4-4adb-99be-162628b1f4d8",
   "metadata": {},
   "outputs": [],
   "source": [
    "# 2. What is the value of a dictionary value with the key 'foo' and the value 42?"
   ]
  },
  {
   "cell_type": "code",
   "execution_count": 10,
   "id": "7224be9a-8804-42e6-87ff-321023766712",
   "metadata": {},
   "outputs": [],
   "source": [
    "# d  = {'foo' : 42}"
   ]
  },
  {
   "cell_type": "code",
   "execution_count": 11,
   "id": "c5053d26-bcd7-4944-b41c-50656240fc13",
   "metadata": {},
   "outputs": [],
   "source": [
    "#3. What is the most significant distinction between a dictionary and a list?"
   ]
  },
  {
   "cell_type": "code",
   "execution_count": 12,
   "id": "b2be60da-2872-4c87-b187-d9ae3218df28",
   "metadata": {},
   "outputs": [],
   "source": [
    "# in a dictionary , we provide specific keys , but in list it creats index from 0 to onwards."
   ]
  },
  {
   "cell_type": "code",
   "execution_count": 13,
   "id": "54f8b3b9-972f-45b6-bfd5-32d3197526fc",
   "metadata": {},
   "outputs": [],
   "source": [
    "#4. What happens if you try to access spam['foo'] if spam is {'bar': 100}?"
   ]
  },
  {
   "cell_type": "code",
   "execution_count": 14,
   "id": "a5bad168-db81-46f3-8733-0acc65477d11",
   "metadata": {},
   "outputs": [],
   "source": [
    "spam = {'bar' : 100}"
   ]
  },
  {
   "cell_type": "code",
   "execution_count": 15,
   "id": "1014aeed-5395-425a-9b8b-726b95b9e827",
   "metadata": {},
   "outputs": [
    {
     "ename": "KeyError",
     "evalue": "'foo'",
     "output_type": "error",
     "traceback": [
      "\u001b[0;31m---------------------------------------------------------------------------\u001b[0m",
      "\u001b[0;31mKeyError\u001b[0m                                  Traceback (most recent call last)",
      "Cell \u001b[0;32mIn [15], line 1\u001b[0m\n\u001b[0;32m----> 1\u001b[0m \u001b[43mspam\u001b[49m\u001b[43m[\u001b[49m\u001b[38;5;124;43m'\u001b[39;49m\u001b[38;5;124;43mfoo\u001b[39;49m\u001b[38;5;124;43m'\u001b[39;49m\u001b[43m]\u001b[49m\n",
      "\u001b[0;31mKeyError\u001b[0m: 'foo'"
     ]
    }
   ],
   "source": [
    "spam['foo']"
   ]
  },
  {
   "cell_type": "code",
   "execution_count": 16,
   "id": "daecb05b-dbf8-4a12-ae76-139d9daa4205",
   "metadata": {},
   "outputs": [],
   "source": [
    "# we will get a keyerror."
   ]
  },
  {
   "cell_type": "code",
   "execution_count": 17,
   "id": "5dccb8d8-2aa3-4396-a748-b90433bc7950",
   "metadata": {},
   "outputs": [],
   "source": [
    "#5. If a dictionary is stored in spam, what is the difference between the expressions 'cat' in spam and 'cat' in spam.keys()?"
   ]
  },
  {
   "cell_type": "code",
   "execution_count": 19,
   "id": "fb186954-9f5d-4774-bfad-a86f6e0d5343",
   "metadata": {},
   "outputs": [
    {
     "data": {
      "text/plain": [
       "True"
      ]
     },
     "execution_count": 19,
     "metadata": {},
     "output_type": "execute_result"
    }
   ],
   "source": [
    "spam = { 'cat' : 100}\n",
    "'cat' in spam.keys()"
   ]
  },
  {
   "cell_type": "code",
   "execution_count": 20,
   "id": "0e344607-6381-4e10-b008-790c68ae8c74",
   "metadata": {},
   "outputs": [],
   "source": [
    "# there is no difference between 'cat' in spam and 'cat' in spam.keys()"
   ]
  },
  {
   "cell_type": "code",
   "execution_count": 21,
   "id": "f51e868d-b98f-46ae-be8d-50c9899fdb41",
   "metadata": {},
   "outputs": [],
   "source": [
    "# 6. If a dictionary is stored in spam, what is the difference between the expressions 'cat' in spam and 'cat' in spam.values()?"
   ]
  },
  {
   "cell_type": "code",
   "execution_count": 22,
   "id": "a80588e6-9ac8-40ea-a9ea-fd7e0d59f9af",
   "metadata": {},
   "outputs": [
    {
     "data": {
      "text/plain": [
       "False"
      ]
     },
     "execution_count": 22,
     "metadata": {},
     "output_type": "execute_result"
    }
   ],
   "source": [
    "spam = { 'cat' : 100}\n",
    "'cat' in spam.values()"
   ]
  },
  {
   "cell_type": "code",
   "execution_count": 24,
   "id": "efebe536-3adb-4dc8-9ad5-cbc59fbcc3e4",
   "metadata": {},
   "outputs": [
    {
     "data": {
      "text/plain": [
       "True"
      ]
     },
     "execution_count": 24,
     "metadata": {},
     "output_type": "execute_result"
    }
   ],
   "source": [
    "spam = { 'cat' : 100}\n",
    "'cat' in spam"
   ]
  },
  {
   "cell_type": "code",
   "execution_count": 25,
   "id": "ed4da9fa-0291-4ea0-a113-cda191648f0c",
   "metadata": {},
   "outputs": [],
   "source": [
    "#7. What is a shortcut for the following code?"
   ]
  },
  {
   "cell_type": "code",
   "execution_count": 29,
   "id": "b58af2f8-71ac-47c1-bf53-c025c4a17372",
   "metadata": {},
   "outputs": [],
   "source": [
    "# if 'color' not in spam:\n",
    "# spam['color'] = 'black'"
   ]
  },
  {
   "cell_type": "code",
   "execution_count": null,
   "id": "90cb370e-884f-4dc4-9b2e-1824bab79152",
   "metadata": {},
   "outputs": [],
   "source": [
    "# spam.setdefault('color' , 'black')"
   ]
  },
  {
   "cell_type": "code",
   "execution_count": 27,
   "id": "f08f1cb3-6bce-44be-890e-074bedd9c8fd",
   "metadata": {},
   "outputs": [],
   "source": [
    "#8. How do you \"pretty print\" dictionary values using which module and function?"
   ]
  },
  {
   "cell_type": "code",
   "execution_count": null,
   "id": "ac9cc607-d268-402b-bff0-f68f7eb78ee6",
   "metadata": {},
   "outputs": [],
   "source": [
    "# pprint module and pprint() function. pprint.pprint()"
   ]
  }
 ],
 "metadata": {
  "kernelspec": {
   "display_name": "Python 3 (ipykernel)",
   "language": "python",
   "name": "python3"
  },
  "language_info": {
   "codemirror_mode": {
    "name": "ipython",
    "version": 3
   },
   "file_extension": ".py",
   "mimetype": "text/x-python",
   "name": "python",
   "nbconvert_exporter": "python",
   "pygments_lexer": "ipython3",
   "version": "3.10.6"
  }
 },
 "nbformat": 4,
 "nbformat_minor": 5
}
