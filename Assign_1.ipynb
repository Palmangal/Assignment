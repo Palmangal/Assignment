{
 "cells": [
  {
   "cell_type": "code",
   "execution_count": 3,
   "id": "0c085000-de45-4049-857f-b8986679bd41",
   "metadata": {},
   "outputs": [],
   "source": [
    "#1.    In the below elements which of them are values or an expression? eg:- values can be integer or string and expressions will be mathematical operators.\n",
    "\n",
    "#*\n",
    "#'hello'\n",
    "#-87.8\n",
    "#-\n",
    "#/\n",
    "#+\n",
    "#6"
   ]
  },
  {
   "cell_type": "code",
   "execution_count": 4,
   "id": "e28c8cf6-c820-4756-9f54-36919e975d32",
   "metadata": {},
   "outputs": [],
   "source": [
    "# * , - , / , + are Expressions and 'hello' , -87.8 , 6 are values. "
   ]
  },
  {
   "cell_type": "code",
   "execution_count": 5,
   "id": "ad660c99-6beb-475f-a37d-366d99a23fa0",
   "metadata": {},
   "outputs": [],
   "source": [
    "#2.   What is the difference between string and variable?"
   ]
  },
  {
   "cell_type": "code",
   "execution_count": 6,
   "id": "a6af5f47-57e0-42ca-87aa-351b8a92f5ce",
   "metadata": {},
   "outputs": [],
   "source": [
    "#  variable are used to store data in it and String is itself a data which we store in any variable."
   ]
  },
  {
   "cell_type": "code",
   "execution_count": 7,
   "id": "138874de-a29a-4bc1-9581-34305ce9beb9",
   "metadata": {},
   "outputs": [],
   "source": [
    "#3. Describe three different data types."
   ]
  },
  {
   "cell_type": "code",
   "execution_count": 8,
   "id": "ff1bbdea-cfb0-42b4-abc8-766b849cc05e",
   "metadata": {},
   "outputs": [],
   "source": [
    "#  1. int data type : Numeric data type for numbers without fractions\n",
    "# 2. float data type : Numeric data type for numbers with fractions\n",
    "# 3 . string data type : sequence of characters or numbers under quotes \"\""
   ]
  },
  {
   "cell_type": "code",
   "execution_count": 9,
   "id": "aa864040-6f02-4974-a2a6-7cff7d0fd9e7",
   "metadata": {},
   "outputs": [],
   "source": [
    "#4. What is an expression made up of? What do all expressions do?"
   ]
  },
  {
   "cell_type": "code",
   "execution_count": 10,
   "id": "f15aa9f3-f601-4ec8-b2bf-d6cfc46f1b84",
   "metadata": {},
   "outputs": [],
   "source": [
    "# expression is a combination of operators and operands that is interpreted to some other values. "
   ]
  },
  {
   "cell_type": "code",
   "execution_count": 11,
   "id": "470be0ec-734a-45d1-9b45-ad43a03afd9a",
   "metadata": {},
   "outputs": [],
   "source": [
    "#5. This assignment statements, like spam = 10. What is the difference between an expression and a statement?"
   ]
  },
  {
   "cell_type": "code",
   "execution_count": 12,
   "id": "c2f0c70a-4590-4c65-8004-75b05fe8cdb2",
   "metadata": {},
   "outputs": [],
   "source": [
    "#  expression evaluates to a single value, Statement is like a sentense which gives you a fact , does nothing."
   ]
  },
  {
   "cell_type": "code",
   "execution_count": 13,
   "id": "141912a0-2b2a-4341-86d9-e00fa77df59b",
   "metadata": {},
   "outputs": [],
   "source": [
    "# 6. After running the following code, what does the variable bacon contain?\n",
    "# bacon = 22\n",
    "# bacon + 1"
   ]
  },
  {
   "cell_type": "code",
   "execution_count": 14,
   "id": "af4ba9a2-6fa1-4d7e-81ce-1a2354c73f80",
   "metadata": {},
   "outputs": [],
   "source": [
    "bacon = 22"
   ]
  },
  {
   "cell_type": "code",
   "execution_count": 15,
   "id": "54e51444-270f-4f81-8aec-5a2131042a44",
   "metadata": {},
   "outputs": [
    {
     "data": {
      "text/plain": [
       "23"
      ]
     },
     "execution_count": 15,
     "metadata": {},
     "output_type": "execute_result"
    }
   ],
   "source": [
    "bacon + 1"
   ]
  },
  {
   "cell_type": "code",
   "execution_count": 16,
   "id": "6a63c32f-a289-4294-95ba-b212d4fc59a4",
   "metadata": {},
   "outputs": [
    {
     "data": {
      "text/plain": [
       "22"
      ]
     },
     "execution_count": 16,
     "metadata": {},
     "output_type": "execute_result"
    }
   ],
   "source": [
    "bacon"
   ]
  },
  {
   "cell_type": "code",
   "execution_count": 17,
   "id": "22a56b4c-66aa-4607-a89e-dd4d412eb43d",
   "metadata": {},
   "outputs": [],
   "source": [
    "# so after running this code, bacon will store only 22. "
   ]
  },
  {
   "cell_type": "code",
   "execution_count": 18,
   "id": "5b846210-b475-4950-bd9d-286d09eafb0a",
   "metadata": {},
   "outputs": [],
   "source": [
    "#7. What should the values of the following two terms be?\n",
    "# 'spam' + 'spamspam'\n",
    "# 'spam' *3"
   ]
  },
  {
   "cell_type": "code",
   "execution_count": 19,
   "id": "a1849893-f1f2-4494-b001-8bfbbe8b7a0e",
   "metadata": {},
   "outputs": [
    {
     "data": {
      "text/plain": [
       "'spamspamspam'"
      ]
     },
     "execution_count": 19,
     "metadata": {},
     "output_type": "execute_result"
    }
   ],
   "source": [
    "'spam' + 'spamspam'"
   ]
  },
  {
   "cell_type": "code",
   "execution_count": 20,
   "id": "9f04f23e-0cfd-4161-8c6a-078292e9596d",
   "metadata": {},
   "outputs": [
    {
     "data": {
      "text/plain": [
       "'spamspamspam'"
      ]
     },
     "execution_count": 20,
     "metadata": {},
     "output_type": "execute_result"
    }
   ],
   "source": [
    "'spam' *3"
   ]
  },
  {
   "cell_type": "code",
   "execution_count": 21,
   "id": "9b99fae1-6b05-4851-97f3-70841e92f71c",
   "metadata": {},
   "outputs": [],
   "source": [
    "#8.  Why is eggs a valid variable name while 100 is invalid?"
   ]
  },
  {
   "cell_type": "code",
   "execution_count": 24,
   "id": "4a57272c-47f8-49d9-982b-8f19058acf35",
   "metadata": {},
   "outputs": [],
   "source": [
    "# eggs - this is starting from a letter which is valid for a variable name "
   ]
  },
  {
   "cell_type": "code",
   "execution_count": null,
   "id": "1bc22929-7271-4645-b7a3-870eade4b622",
   "metadata": {},
   "outputs": [],
   "source": [
    "# 100 - this is starting with numeric value which is not valid for any variable name."
   ]
  },
  {
   "cell_type": "code",
   "execution_count": 25,
   "id": "7fe2c4a3-e505-4404-924c-86c81d4e2cdf",
   "metadata": {},
   "outputs": [],
   "source": [
    "#9 .What three functions can be used to get the integer, floating-point number, or string version of a value?"
   ]
  },
  {
   "cell_type": "code",
   "execution_count": 26,
   "id": "52f19afb-dad4-4068-8d84-03a105db4a57",
   "metadata": {},
   "outputs": [],
   "source": [
    "# int() , flost() , str() these three function"
   ]
  },
  {
   "cell_type": "code",
   "execution_count": 27,
   "id": "1b6f9272-93ca-4814-aa72-adf920a8c696",
   "metadata": {},
   "outputs": [],
   "source": [
    "# 10. Why does this expression cause an error? How can you fix it?\n",
    "# 'i have eaten' + 99 + 'burritos'"
   ]
  },
  {
   "cell_type": "code",
   "execution_count": 29,
   "id": "07061c15-5c89-4ac5-b7d0-dcd2e79466f1",
   "metadata": {},
   "outputs": [],
   "source": [
    "# we can not concatenate string with int data type , so after making 99 as a str, we can fix it"
   ]
  },
  {
   "cell_type": "code",
   "execution_count": 31,
   "id": "869b44bf-854d-4796-ab0e-5af30fc35ec7",
   "metadata": {},
   "outputs": [
    {
     "data": {
      "text/plain": [
       "'i have eaten 99 burritos'"
      ]
     },
     "execution_count": 31,
     "metadata": {},
     "output_type": "execute_result"
    }
   ],
   "source": [
    "'i have eaten ' + '99 ' + 'burritos'"
   ]
  },
  {
   "cell_type": "code",
   "execution_count": null,
   "id": "894c7191-7ced-44eb-924a-bfdaa5dceb16",
   "metadata": {},
   "outputs": [],
   "source": []
  }
 ],
 "metadata": {
  "kernelspec": {
   "display_name": "Python 3 (ipykernel)",
   "language": "python",
   "name": "python3"
  },
  "language_info": {
   "codemirror_mode": {
    "name": "ipython",
    "version": 3
   },
   "file_extension": ".py",
   "mimetype": "text/x-python",
   "name": "python",
   "nbconvert_exporter": "python",
   "pygments_lexer": "ipython3",
   "version": "3.10.6"
  }
 },
 "nbformat": 4,
 "nbformat_minor": 5
}
