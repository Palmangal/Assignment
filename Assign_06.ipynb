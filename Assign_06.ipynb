{
 "cells": [
  {
   "cell_type": "code",
   "execution_count": 1,
   "id": "a3cbc659-852c-408b-a9cd-deb769e9ddb9",
   "metadata": {},
   "outputs": [],
   "source": [
    "# 1. What are escape characters, and how do you use them?"
   ]
  },
  {
   "cell_type": "code",
   "execution_count": null,
   "id": "52eeed1d-58de-4dfd-9f2d-a47a874e3789",
   "metadata": {},
   "outputs": [],
   "source": [
    "# to insert characters which are illegal to insert into any string , we use escape characters. it is backslah following by characters."
   ]
  },
  {
   "cell_type": "code",
   "execution_count": 8,
   "id": "38313a3f-f2e1-4a38-9754-590f24bc9b36",
   "metadata": {},
   "outputs": [
    {
     "name": "stdout",
     "output_type": "stream",
     "text": [
      "we have enrolled in \"iNeuron's\" full stack data science Bootcamp2.0 \n"
     ]
    }
   ],
   "source": [
    "data = \"we have enrolled in \\\"iNeuron's\\\" full stack data science Bootcamp2.0 \"\n",
    "print(data)"
   ]
  },
  {
   "cell_type": "code",
   "execution_count": 7,
   "id": "696a7356-bde4-4e41-8c49-b0c033a2cf6d",
   "metadata": {},
   "outputs": [],
   "source": [
    "#2. What do the escape characters n and t stand for?"
   ]
  },
  {
   "cell_type": "code",
   "execution_count": 9,
   "id": "554cc397-079c-4be4-a6f5-7779c4588cb3",
   "metadata": {},
   "outputs": [],
   "source": [
    "# The escape characters n and t stands for new line and tab respectively. \\n is a new line. and \\t is a tab."
   ]
  },
  {
   "cell_type": "code",
   "execution_count": 10,
   "id": "7073d109-25ce-4333-a7c1-0fc88da98a65",
   "metadata": {},
   "outputs": [],
   "source": [
    "#3. What is the way to include backslash characters in a string?"
   ]
  },
  {
   "cell_type": "code",
   "execution_count": 11,
   "id": "941ec50c-20f6-4e36-bb2b-c3840610d81b",
   "metadata": {},
   "outputs": [],
   "source": [
    "# \\ \"required string\\\""
   ]
  },
  {
   "cell_type": "code",
   "execution_count": 12,
   "id": "776afd7d-2fcd-4f1a-a663-f89783465ac1",
   "metadata": {},
   "outputs": [],
   "source": [
    "#4. The string \"Howl's Moving Castle\" is a correct value. Why isn't the single quote character in the word Howl's not escaped a problem?"
   ]
  },
  {
   "cell_type": "code",
   "execution_count": 13,
   "id": "60c46eef-02e5-4972-b758-a372bcdb9cff",
   "metadata": {},
   "outputs": [],
   "source": [
    "#The single quote in Howl's is fine because we have used double quotes to mark the beginning and end of the string."
   ]
  },
  {
   "cell_type": "code",
   "execution_count": 14,
   "id": "4a0025a1-1a52-4f18-a4ed-64b7b5a57afa",
   "metadata": {},
   "outputs": [],
   "source": [
    "#5. How do you write a string of newlines if you don't want to use the n character?"
   ]
  },
  {
   "cell_type": "code",
   "execution_count": null,
   "id": "c6391850-c775-4b79-9bda-924713b514ae",
   "metadata": {},
   "outputs": [],
   "source": [
    "#Multiline print allow us to use newlines in strings without the \\n escape character."
   ]
  },
  {
   "cell_type": "code",
   "execution_count": null,
   "id": "b257f326-6f20-4129-a5f5-55e6f123d3d5",
   "metadata": {},
   "outputs": [],
   "source": [
    "#6. What are the values of the given expressions?\n",
    "'Hello, world!'[1]\n",
    "'Hello, world!'[0:5]\n",
    "'Hello, world!'[:5]\n",
    "'Hello, world!'[3:]"
   ]
  },
  {
   "cell_type": "code",
   "execution_count": 19,
   "id": "b5bd989e-27c0-425b-962d-0c1a71b8e637",
   "metadata": {},
   "outputs": [
    {
     "data": {
      "text/plain": [
       "'e'"
      ]
     },
     "execution_count": 19,
     "metadata": {},
     "output_type": "execute_result"
    }
   ],
   "source": [
    "'Hello, world!'[1]"
   ]
  },
  {
   "cell_type": "code",
   "execution_count": 20,
   "id": "840622fb-3d2e-4cc6-92ac-ca958901adcd",
   "metadata": {},
   "outputs": [
    {
     "data": {
      "text/plain": [
       "'Hello'"
      ]
     },
     "execution_count": 20,
     "metadata": {},
     "output_type": "execute_result"
    }
   ],
   "source": [
    "'Hello, world!'[0:5]"
   ]
  },
  {
   "cell_type": "code",
   "execution_count": 21,
   "id": "e6798632-47d5-49c2-99bf-80d8e4b9f567",
   "metadata": {},
   "outputs": [
    {
     "data": {
      "text/plain": [
       "'Hello'"
      ]
     },
     "execution_count": 21,
     "metadata": {},
     "output_type": "execute_result"
    }
   ],
   "source": [
    "'Hello, world!'[:5]"
   ]
  },
  {
   "cell_type": "code",
   "execution_count": 22,
   "id": "5caccb6d-18f2-4af7-8854-8c8b2bffd2d2",
   "metadata": {},
   "outputs": [
    {
     "data": {
      "text/plain": [
       "'lo, world!'"
      ]
     },
     "execution_count": 22,
     "metadata": {},
     "output_type": "execute_result"
    }
   ],
   "source": [
    "'Hello, world!'[3:]"
   ]
  },
  {
   "cell_type": "code",
   "execution_count": null,
   "id": "34298ca4-9479-4056-9f0c-432464b90cea",
   "metadata": {},
   "outputs": [],
   "source": [
    "#7. What are the values of the following expressions?\n",
    "'Hello'.upper()\n",
    "'Hello'.upper().isupper()\n",
    "'Hello'.upper().lower()"
   ]
  },
  {
   "cell_type": "code",
   "execution_count": 23,
   "id": "a0bd2e5f-cfb0-4e2f-99de-37c54cbb9e55",
   "metadata": {},
   "outputs": [
    {
     "data": {
      "text/plain": [
       "'HELLO'"
      ]
     },
     "execution_count": 23,
     "metadata": {},
     "output_type": "execute_result"
    }
   ],
   "source": [
    "'Hello'.upper()"
   ]
  },
  {
   "cell_type": "code",
   "execution_count": 24,
   "id": "2c365cb4-8100-474d-86dd-fd12b1a4136a",
   "metadata": {},
   "outputs": [
    {
     "data": {
      "text/plain": [
       "True"
      ]
     },
     "execution_count": 24,
     "metadata": {},
     "output_type": "execute_result"
    }
   ],
   "source": [
    "'Hello'.upper().isupper()"
   ]
  },
  {
   "cell_type": "code",
   "execution_count": 25,
   "id": "94087966-13a9-45bc-abac-6504dd1313c4",
   "metadata": {},
   "outputs": [
    {
     "data": {
      "text/plain": [
       "'hello'"
      ]
     },
     "execution_count": 25,
     "metadata": {},
     "output_type": "execute_result"
    }
   ],
   "source": [
    "'Hello'.upper().lower()"
   ]
  },
  {
   "cell_type": "code",
   "execution_count": 26,
   "id": "7dd852f4-db9c-426a-b02a-58d011427c72",
   "metadata": {},
   "outputs": [
    {
     "data": {
      "text/plain": [
       "'There-can-only-one.'"
      ]
     },
     "execution_count": 26,
     "metadata": {},
     "output_type": "execute_result"
    }
   ],
   "source": [
    "#8. What are the values of the following expressions?\n",
    "'Remember, remember, the fifth of July.'.split()\n",
    "'-'.join('There can only one.'.split())"
   ]
  },
  {
   "cell_type": "code",
   "execution_count": 27,
   "id": "50359c0b-ef56-46f7-9a34-3689e0d5579f",
   "metadata": {},
   "outputs": [
    {
     "data": {
      "text/plain": [
       "['Remember,', 'remember,', 'the', 'fifth', 'of', 'July.']"
      ]
     },
     "execution_count": 27,
     "metadata": {},
     "output_type": "execute_result"
    }
   ],
   "source": [
    "'Remember, remember, the fifth of July.'.split()"
   ]
  },
  {
   "cell_type": "code",
   "execution_count": 38,
   "id": "0fa36cdc-8b43-4380-aad5-b3960fbffe2b",
   "metadata": {},
   "outputs": [
    {
     "data": {
      "text/plain": [
       "'There-can-only-one.'"
      ]
     },
     "execution_count": 38,
     "metadata": {},
     "output_type": "execute_result"
    }
   ],
   "source": [
    "'-'.join('There can only one.'.split())"
   ]
  },
  {
   "cell_type": "code",
   "execution_count": 40,
   "id": "65ed1b87-1c0e-455d-b254-f344be6bf151",
   "metadata": {},
   "outputs": [],
   "source": [
    "#9. What are the methods for right-justifying, left-justifying, and centering a string?"
   ]
  },
  {
   "cell_type": "code",
   "execution_count": 47,
   "id": "c7a14588-5351-479f-b6ca-4c153d434076",
   "metadata": {},
   "outputs": [],
   "source": [
    "# rjust() , ljust() , centre() are three functions."
   ]
  },
  {
   "cell_type": "code",
   "execution_count": 48,
   "id": "e89466a4-2bcc-4d80-a9d3-77aa0d64a1c5",
   "metadata": {},
   "outputs": [],
   "source": [
    "#10. What is the best way to remove whitespace characters from the start or end?"
   ]
  },
  {
   "cell_type": "code",
   "execution_count": 53,
   "id": "0b0793bd-ca94-447a-b203-35ae75682475",
   "metadata": {},
   "outputs": [],
   "source": [
    "# by using lsrtip() or rstrip() respectively we can remove whitespace characters from the start or end."
   ]
  }
 ],
 "metadata": {
  "kernelspec": {
   "display_name": "Python 3 (ipykernel)",
   "language": "python",
   "name": "python3"
  },
  "language_info": {
   "codemirror_mode": {
    "name": "ipython",
    "version": 3
   },
   "file_extension": ".py",
   "mimetype": "text/x-python",
   "name": "python",
   "nbconvert_exporter": "python",
   "pygments_lexer": "ipython3",
   "version": "3.10.6"
  }
 },
 "nbformat": 4,
 "nbformat_minor": 5
}
