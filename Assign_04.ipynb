{
 "cells": [
  {
   "cell_type": "code",
   "execution_count": 1,
   "id": "84cc4c94-8ec7-48b9-9f30-dd03e3e3ff1c",
   "metadata": {},
   "outputs": [],
   "source": [
    "#1 . What exactly is []?"
   ]
  },
  {
   "cell_type": "code",
   "execution_count": 2,
   "id": "d852d880-033d-43ef-a3b3-41ac3a3b346a",
   "metadata": {},
   "outputs": [],
   "source": [
    "# the empty list, which contains no value .\n"
   ]
  },
  {
   "cell_type": "code",
   "execution_count": 3,
   "id": "cdb3c35f-4426-454c-aff5-0353caf4d4b0",
   "metadata": {},
   "outputs": [],
   "source": [
    "#2 .In a list of values stored in a variable called spam, how would you assign the value 'hello' as the third value? (Assume [2, 4, 6, 8, 10] are in spam.)"
   ]
  },
  {
   "cell_type": "code",
   "execution_count": 4,
   "id": "3626df4f-39cc-4258-90ac-9c7ce9bae90e",
   "metadata": {},
   "outputs": [],
   "source": [
    "spam = [2,4,6,8]"
   ]
  },
  {
   "cell_type": "code",
   "execution_count": 5,
   "id": "fa587259-c1d7-416b-a458-4d7b3b730236",
   "metadata": {},
   "outputs": [],
   "source": [
    "spam[2] = \"HEllo\""
   ]
  },
  {
   "cell_type": "code",
   "execution_count": 6,
   "id": "c1b93dfe-073a-473e-91d5-e4decee3209f",
   "metadata": {},
   "outputs": [
    {
     "data": {
      "text/plain": [
       "[2, 4, 'HEllo', 8]"
      ]
     },
     "execution_count": 6,
     "metadata": {},
     "output_type": "execute_result"
    }
   ],
   "source": [
    "spam"
   ]
  },
  {
   "cell_type": "code",
   "execution_count": 7,
   "id": "a0728db5-293f-44b9-b1d3-af09c4df01a6",
   "metadata": {},
   "outputs": [],
   "source": [
    "#Let's pretend the spam includes the list ['a' , 'b' , 'c' , 'd'] for the next three queries."
   ]
  },
  {
   "cell_type": "code",
   "execution_count": 12,
   "id": "3b887271-1662-4eba-826e-b0008c4a8d74",
   "metadata": {},
   "outputs": [],
   "source": [
    "#3. What is the value of spam[int(int('3' * 2) / 11)]?"
   ]
  },
  {
   "cell_type": "code",
   "execution_count": null,
   "id": "d2dac98d-b65d-4c95-8074-dedf1d06348f",
   "metadata": {},
   "outputs": [],
   "source": [
    "# 'd'"
   ]
  },
  {
   "cell_type": "code",
   "execution_count": 9,
   "id": "7e646850-946c-470a-ae41-e832ce9690fc",
   "metadata": {},
   "outputs": [],
   "source": [
    "spam = ['a' , 'b' , 'c' , 'd']"
   ]
  },
  {
   "cell_type": "code",
   "execution_count": 10,
   "id": "001fd482-5520-4eaa-b47e-5605ba809234",
   "metadata": {},
   "outputs": [
    {
     "data": {
      "text/plain": [
       "'d'"
      ]
     },
     "execution_count": 10,
     "metadata": {},
     "output_type": "execute_result"
    }
   ],
   "source": [
    "spam[int(int('3' * 2) / 11)]"
   ]
  },
  {
   "cell_type": "code",
   "execution_count": 13,
   "id": "f4956d16-4285-4d61-af7b-e40d69772e00",
   "metadata": {},
   "outputs": [],
   "source": [
    "#4 . What is the value of spam[-1]?"
   ]
  },
  {
   "cell_type": "code",
   "execution_count": 14,
   "id": "3fbcae52-a19c-4c7f-ba51-611250483194",
   "metadata": {},
   "outputs": [],
   "source": [
    "# 'd'"
   ]
  },
  {
   "cell_type": "code",
   "execution_count": 15,
   "id": "bbed4cc0-5c00-4786-a561-b4ab55f52f16",
   "metadata": {},
   "outputs": [
    {
     "data": {
      "text/plain": [
       "'d'"
      ]
     },
     "execution_count": 15,
     "metadata": {},
     "output_type": "execute_result"
    }
   ],
   "source": [
    "spam[-1]"
   ]
  },
  {
   "cell_type": "code",
   "execution_count": 16,
   "id": "3ca24807-a9dc-46ca-8b3f-48167aef8e4c",
   "metadata": {},
   "outputs": [],
   "source": [
    "#5. What is the value of spam[:2]?"
   ]
  },
  {
   "cell_type": "code",
   "execution_count": 17,
   "id": "d5166f86-7d8a-4fc9-aa56-3b9afc0c6992",
   "metadata": {},
   "outputs": [],
   "source": [
    "# ['a', 'b']"
   ]
  },
  {
   "cell_type": "code",
   "execution_count": 18,
   "id": "f59ae5bb-b41d-4df3-a511-c26a8f53fab7",
   "metadata": {},
   "outputs": [
    {
     "data": {
      "text/plain": [
       "['a', 'b']"
      ]
     },
     "execution_count": 18,
     "metadata": {},
     "output_type": "execute_result"
    }
   ],
   "source": [
    "spam[:2]"
   ]
  },
  {
   "cell_type": "code",
   "execution_count": 19,
   "id": "b7df1dfe-3b85-4e5f-9eaa-f7bf0daef573",
   "metadata": {},
   "outputs": [],
   "source": [
    "#Let's pretend bacon has the list [3.14,'cat' , 11, 'cat' , True] for the next three questions."
   ]
  },
  {
   "cell_type": "code",
   "execution_count": 20,
   "id": "1aa61aa2-05d7-4026-ac43-340cc5062692",
   "metadata": {},
   "outputs": [],
   "source": [
    "bacon = [3.14,'cat' , 11, 'cat' , True]"
   ]
  },
  {
   "cell_type": "code",
   "execution_count": 21,
   "id": "d01fb63f-dc3d-4168-a7cf-3491de37b617",
   "metadata": {},
   "outputs": [],
   "source": [
    "#6. What is the value of bacon.index('cat')?"
   ]
  },
  {
   "cell_type": "code",
   "execution_count": 22,
   "id": "2fca2ea7-8958-4c10-ba2c-ce3e39e3884a",
   "metadata": {},
   "outputs": [],
   "source": [
    "# 1"
   ]
  },
  {
   "cell_type": "code",
   "execution_count": 23,
   "id": "e6f2ae6a-ae35-44aa-8324-eabdfbd78084",
   "metadata": {},
   "outputs": [
    {
     "data": {
      "text/plain": [
       "1"
      ]
     },
     "execution_count": 23,
     "metadata": {},
     "output_type": "execute_result"
    }
   ],
   "source": [
    "bacon.index('cat')"
   ]
  },
  {
   "cell_type": "code",
   "execution_count": 24,
   "id": "8614ba39-cd53-4711-93f9-5831f8b6cbdd",
   "metadata": {},
   "outputs": [],
   "source": [
    "#7 .How does bacon.append(99) change the look of the list value in bacon?"
   ]
  },
  {
   "cell_type": "code",
   "execution_count": 25,
   "id": "7b6cf756-eec2-4343-a531-0b6c999047d1",
   "metadata": {},
   "outputs": [
    {
     "data": {
      "text/plain": [
       "[3.14, 'cat', 11, 'cat', True, 99]"
      ]
     },
     "execution_count": 25,
     "metadata": {},
     "output_type": "execute_result"
    }
   ],
   "source": [
    "[3.14,'cat' , 11, 'cat' , True , 99]"
   ]
  },
  {
   "cell_type": "code",
   "execution_count": 26,
   "id": "f28df516-57f8-45ee-9ae2-aa2d6c3e7a6c",
   "metadata": {},
   "outputs": [],
   "source": [
    "bacon.append(99)"
   ]
  },
  {
   "cell_type": "code",
   "execution_count": 27,
   "id": "3048cba4-f9d9-4e4b-b86e-286b89590403",
   "metadata": {},
   "outputs": [
    {
     "data": {
      "text/plain": [
       "[3.14, 'cat', 11, 'cat', True, 99]"
      ]
     },
     "execution_count": 27,
     "metadata": {},
     "output_type": "execute_result"
    }
   ],
   "source": [
    "bacon"
   ]
  },
  {
   "cell_type": "code",
   "execution_count": 28,
   "id": "7338a954-5181-4e19-a824-f0f8ef94fea8",
   "metadata": {},
   "outputs": [],
   "source": [
    "#8. How does bacon.remove('cat') change the look of the list in bacon?"
   ]
  },
  {
   "cell_type": "code",
   "execution_count": 29,
   "id": "747b55a9-f16d-45dd-ad66-8d39157fdb5e",
   "metadata": {},
   "outputs": [],
   "source": [
    "bacon.remove('cat')"
   ]
  },
  {
   "cell_type": "code",
   "execution_count": 30,
   "id": "3212b0b7-b229-4e7e-80cb-89618b4198ee",
   "metadata": {},
   "outputs": [
    {
     "data": {
      "text/plain": [
       "[3.14, 11, 'cat', True, 99]"
      ]
     },
     "execution_count": 30,
     "metadata": {},
     "output_type": "execute_result"
    }
   ],
   "source": [
    "bacon"
   ]
  },
  {
   "cell_type": "code",
   "execution_count": 31,
   "id": "6b700fa5-6315-43ee-8a73-12d3ce3e8973",
   "metadata": {},
   "outputs": [],
   "source": [
    "#9. What are the list concatenation and list replication operators?"
   ]
  },
  {
   "cell_type": "code",
   "execution_count": 32,
   "id": "758e1994-cc89-4bd6-b254-79ece238b29b",
   "metadata": {},
   "outputs": [],
   "source": [
    "# The operator for list concatenation is +, while the operator for replication is * ."
   ]
  },
  {
   "cell_type": "code",
   "execution_count": 33,
   "id": "92429a4d-83a0-45a1-914b-060141f65d37",
   "metadata": {},
   "outputs": [],
   "source": [
    "#10. What is difference between the list methods append() and insert()?"
   ]
  },
  {
   "cell_type": "code",
   "execution_count": 34,
   "id": "059efacc-4bde-45d4-9c17-297b06d61cd8",
   "metadata": {},
   "outputs": [],
   "source": [
    "# by using insert , we can add number at any specific positon , but append only add numbers in the last . "
   ]
  },
  {
   "cell_type": "code",
   "execution_count": 35,
   "id": "616b3df1-f1a0-43ff-9104-4b74a2d1e4d7",
   "metadata": {},
   "outputs": [],
   "source": [
    "#11. What are the two methods for removing items from a list?"
   ]
  },
  {
   "cell_type": "code",
   "execution_count": 36,
   "id": "e1cfe925-90b4-46ce-92c8-129cede9d165",
   "metadata": {},
   "outputs": [],
   "source": [
    "# remove() , pop () , del"
   ]
  },
  {
   "cell_type": "code",
   "execution_count": 38,
   "id": "4f998ef2-a864-4828-8cac-84c6862d6e96",
   "metadata": {},
   "outputs": [],
   "source": [
    "#12. Describe how list values and string values are identical."
   ]
  },
  {
   "cell_type": "code",
   "execution_count": 39,
   "id": "7873ec01-f151-4fab-a717-ba2101a18b22",
   "metadata": {},
   "outputs": [],
   "source": [
    "#Both lists and strings can be passed to len(), \n",
    "#have indexes and slices, be used in for loops, be concatenated or replicated, and be used with the in and not in operators."
   ]
  },
  {
   "cell_type": "code",
   "execution_count": 40,
   "id": "b811ebed-96ba-4410-ad6a-11bc97238089",
   "metadata": {},
   "outputs": [],
   "source": [
    "# 13. What's the difference between tuples and lists?"
   ]
  },
  {
   "cell_type": "code",
   "execution_count": 41,
   "id": "9701e738-e983-455c-b2b7-173e7b817607",
   "metadata": {},
   "outputs": [],
   "source": [
    "#List are mutable , in list  we can add ,delete values , we use [] for list. tuple are immutable , it is written in ()"
   ]
  },
  {
   "cell_type": "code",
   "execution_count": 42,
   "id": "1ab6a7b8-6c64-4bf3-b5fe-bacd483899d5",
   "metadata": {},
   "outputs": [],
   "source": [
    "#14. How do you type a tuple value that only contains the integer 42?"
   ]
  },
  {
   "cell_type": "code",
   "execution_count": 43,
   "id": "e7fb05b0-5c7d-486a-a7ae-60deec1f044b",
   "metadata": {},
   "outputs": [],
   "source": [
    "# (42)"
   ]
  },
  {
   "cell_type": "code",
   "execution_count": 44,
   "id": "fd18a7b6-4388-4a5a-ba23-28ce897ea959",
   "metadata": {},
   "outputs": [],
   "source": [
    "#15. How do you get a list value's tuple form? How do you get a tuple value's list form?"
   ]
  },
  {
   "cell_type": "code",
   "execution_count": 45,
   "id": "2a18ce97-1781-44f4-b6f6-d27f2f8fe8a6",
   "metadata": {},
   "outputs": [],
   "source": [
    "# by using tuple() and list() respectively."
   ]
  },
  {
   "cell_type": "code",
   "execution_count": 46,
   "id": "3a907ade-f6bb-4aaf-b7e4-9620558d8370",
   "metadata": {},
   "outputs": [],
   "source": [
    "#16. Variables that \"contain\" list values are not necessarily lists themselves. Instead, what do they contain?"
   ]
  },
  {
   "cell_type": "code",
   "execution_count": null,
   "id": "efb06b15-86a4-445a-8c98-c56bab516157",
   "metadata": {},
   "outputs": [],
   "source": [
    "#they contain refrences to the list values."
   ]
  },
  {
   "cell_type": "code",
   "execution_count": 47,
   "id": "6637c849-df82-4cee-8294-ad93ef47d032",
   "metadata": {},
   "outputs": [],
   "source": [
    "#17. How do you distinguish between copy.copy() and copy.deepcopy()?"
   ]
  },
  {
   "cell_type": "code",
   "execution_count": null,
   "id": "169d80bd-abd3-4d62-8da3-40938b425045",
   "metadata": {},
   "outputs": [],
   "source": [
    "#copy.copy() creates shallow copy of a list and copy.deepcopy() creates a deep copy of list"
   ]
  }
 ],
 "metadata": {
  "kernelspec": {
   "display_name": "Python 3 (ipykernel)",
   "language": "python",
   "name": "python3"
  },
  "language_info": {
   "codemirror_mode": {
    "name": "ipython",
    "version": 3
   },
   "file_extension": ".py",
   "mimetype": "text/x-python",
   "name": "python",
   "nbconvert_exporter": "python",
   "pygments_lexer": "ipython3",
   "version": "3.10.6"
  }
 },
 "nbformat": 4,
 "nbformat_minor": 5
}
