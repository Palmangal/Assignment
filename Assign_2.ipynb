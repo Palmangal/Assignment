{
 "cells": [
  {
   "cell_type": "code",
   "execution_count": 1,
   "id": "954be4aa-2f12-42a5-9718-64d585c2a39f",
   "metadata": {},
   "outputs": [],
   "source": [
    "#1.What are the two values of the Boolean data type? How do you write them?"
   ]
  },
  {
   "cell_type": "code",
   "execution_count": 5,
   "id": "875335fd-0d0e-408d-a336-c2c6da04c5a0",
   "metadata": {},
   "outputs": [
    {
     "data": {
      "text/plain": [
       "False"
      ]
     },
     "execution_count": 5,
     "metadata": {},
     "output_type": "execute_result"
    }
   ],
   "source": [
    "# there are two Boolean data type - True , False\n",
    "True\n",
    "False"
   ]
  },
  {
   "cell_type": "code",
   "execution_count": 6,
   "id": "22c2248d-c015-4651-b0b8-2a42c374c47e",
   "metadata": {},
   "outputs": [],
   "source": [
    "#2. What are the three different types of Boolean operators?"
   ]
  },
  {
   "cell_type": "code",
   "execution_count": 8,
   "id": "4b8e3ae6-0ab5-45a1-b2e3-1c079bdb6765",
   "metadata": {},
   "outputs": [],
   "source": [
    "# AND \n",
    "# OR\n",
    "# not"
   ]
  },
  {
   "cell_type": "code",
   "execution_count": 9,
   "id": "4324f876-9ea4-42dc-b9e5-02aa98bed6fb",
   "metadata": {},
   "outputs": [],
   "source": [
    "#3 . Make a list of each Boolean operator's truth tables (i.e. every possible combination of Boolean  values for the operator and what it evaluate )."
   ]
  },
  {
   "cell_type": "code",
   "execution_count": 10,
   "id": "2d5d378c-9c2a-493c-a40d-f1983c8c3c42",
   "metadata": {},
   "outputs": [],
   "source": [
    "# True AND True is True , True AND Flase is False , False AND True is False , False AND False is False"
   ]
  },
  {
   "cell_type": "code",
   "execution_count": 11,
   "id": "1e985f16-e3ad-45a0-bd09-ad6ab7ac817a",
   "metadata": {},
   "outputs": [],
   "source": [
    "# True OR True is True , True OR False is True , False OR True is True , False OR False is Flase"
   ]
  },
  {
   "cell_type": "code",
   "execution_count": 12,
   "id": "927163f8-5daf-4025-87f8-425e5da65324",
   "metadata": {},
   "outputs": [],
   "source": [
    "# NOT True  is False , NOT False is True"
   ]
  },
  {
   "cell_type": "code",
   "execution_count": 15,
   "id": "ae6cd1a0-3694-4dc6-a46d-ff5ec7bcdcb9",
   "metadata": {},
   "outputs": [],
   "source": [
    "#4 . What are the values of the following expressions?\n",
    "#(5 > 4) and (3 == 5) - \n",
    "#not (5 > 4)\n",
    "#(5 > 4) or (3 == 5)\n",
    "#not ((5 > 4) or (3 == 5))\n",
    "#(True and True) and (True == False)\n",
    "#(not False) or (not True)"
   ]
  },
  {
   "cell_type": "code",
   "execution_count": 22,
   "id": "b9af8818-b515-46e3-b2e3-f8fbb067e7b3",
   "metadata": {},
   "outputs": [
    {
     "data": {
      "text/plain": [
       "False"
      ]
     },
     "execution_count": 22,
     "metadata": {},
     "output_type": "execute_result"
    }
   ],
   "source": [
    "  (5 > 4) and (3 == 5) "
   ]
  },
  {
   "cell_type": "code",
   "execution_count": 19,
   "id": "82941346-909c-4c38-9833-4d930c0b85e3",
   "metadata": {},
   "outputs": [
    {
     "data": {
      "text/plain": [
       "False"
      ]
     },
     "execution_count": 19,
     "metadata": {},
     "output_type": "execute_result"
    }
   ],
   "source": [
    "not (5 > 4)"
   ]
  },
  {
   "cell_type": "code",
   "execution_count": 23,
   "id": "6d6b7369-d157-43dc-b8df-530e6ac6df43",
   "metadata": {},
   "outputs": [
    {
     "data": {
      "text/plain": [
       "True"
      ]
     },
     "execution_count": 23,
     "metadata": {},
     "output_type": "execute_result"
    }
   ],
   "source": [
    "(5 > 4) or (3 == 5)"
   ]
  },
  {
   "cell_type": "code",
   "execution_count": 24,
   "id": "a88bd89b-8156-465b-ae9a-08c45ef09650",
   "metadata": {},
   "outputs": [
    {
     "data": {
      "text/plain": [
       "False"
      ]
     },
     "execution_count": 24,
     "metadata": {},
     "output_type": "execute_result"
    }
   ],
   "source": [
    "not ((5 > 4) or (3 == 5))"
   ]
  },
  {
   "cell_type": "code",
   "execution_count": 25,
   "id": "a6515ff6-2bb2-4e29-ac04-93719735cf58",
   "metadata": {},
   "outputs": [
    {
     "data": {
      "text/plain": [
       "False"
      ]
     },
     "execution_count": 25,
     "metadata": {},
     "output_type": "execute_result"
    }
   ],
   "source": [
    "(True and True) and (True == False)"
   ]
  },
  {
   "cell_type": "code",
   "execution_count": 26,
   "id": "e9013388-c29d-479a-ad72-1afa24029d65",
   "metadata": {},
   "outputs": [
    {
     "data": {
      "text/plain": [
       "True"
      ]
     },
     "execution_count": 26,
     "metadata": {},
     "output_type": "execute_result"
    }
   ],
   "source": [
    "(not False) or (not True)"
   ]
  },
  {
   "cell_type": "code",
   "execution_count": 27,
   "id": "3ed432a1-28cc-436b-943b-c3e082b00acb",
   "metadata": {},
   "outputs": [],
   "source": [
    "#5. What are the six comparison operators? "
   ]
  },
  {
   "cell_type": "code",
   "execution_count": 28,
   "id": "7381c810-2aef-4b19-835a-5987be055c4c",
   "metadata": {},
   "outputs": [],
   "source": [
    "#ANS. there are six comparison operators :  > , < , != , >= , <= , == "
   ]
  },
  {
   "cell_type": "code",
   "execution_count": 29,
   "id": "fa6d0969-2c42-48f0-b88d-c8680bf11a07",
   "metadata": {},
   "outputs": [],
   "source": [
    "#6 . How do you tell the difference between the equal to and assignment operators?Describe a condition and when you would use one."
   ]
  },
  {
   "cell_type": "code",
   "execution_count": 30,
   "id": "953b417a-3e6c-4b36-a9af-2797ea10042c",
   "metadata": {},
   "outputs": [],
   "source": [
    "# equal to operator compares any two values either both are equal or not , but assignment operator simply assign the value to any variable. "
   ]
  },
  {
   "cell_type": "code",
   "execution_count": 41,
   "id": "ae344c2a-a9a5-435a-a5b3-b7b6c532a361",
   "metadata": {},
   "outputs": [
    {
     "name": "stdout",
     "output_type": "stream",
     "text": [
      "True\n",
      "b =  2\n"
     ]
    }
   ],
   "source": [
    "#Eg . \n",
    "a = \"Pallavi\"\n",
    "if a==\"Pallavi\" :\n",
    "    print(True)\n",
    "else :\n",
    "    print(False)\n",
    "    \n",
    "b = 2\n",
    "print(\"b = \" , b)\n",
    "   "
   ]
  },
  {
   "cell_type": "code",
   "execution_count": 43,
   "id": "f3f10750-df8f-4315-aea3-8056593038d9",
   "metadata": {},
   "outputs": [
    {
     "name": "stdout",
     "output_type": "stream",
     "text": [
      "ham\n",
      "spam\n",
      "spam\n"
     ]
    }
   ],
   "source": [
    "#7 . Identify the three blocks in this code:\n",
    "spam = 0\n",
    "if spam == 10:\n",
    "    print('eggs') #block1\n",
    "if spam > 5:\n",
    "    print('bacon') #block2\n",
    "else:\n",
    "    print('ham') #block3\n",
    "    print('spam')\n",
    "    print('spam')"
   ]
  },
  {
   "cell_type": "code",
   "execution_count": 44,
   "id": "1a6fb8ed-e7d8-45d6-88ec-c425e46fcde0",
   "metadata": {},
   "outputs": [],
   "source": [
    "#8. Write code that prints Hello if 1 is stored in spam, prints Howdy if 2 is stored in spam, and prints Greetings! if anything else is stored in spam."
   ]
  },
  {
   "cell_type": "code",
   "execution_count": 54,
   "id": "571923ff-8458-419c-8fb5-2595887e657f",
   "metadata": {},
   "outputs": [
    {
     "name": "stdin",
     "output_type": "stream",
     "text": [
      "Enter a Number :  1\n"
     ]
    },
    {
     "name": "stdout",
     "output_type": "stream",
     "text": [
      "Hello\n"
     ]
    }
   ],
   "source": [
    "spam = int(input(\"Enter a Number : \"))\n",
    "if spam == 1 :\n",
    "    print(\"Hello\")\n",
    "elif (spam == 2) :\n",
    "    print(\"Howdy\")\n",
    "else:\n",
    "    print(\"Greeting\")"
   ]
  },
  {
   "cell_type": "code",
   "execution_count": 55,
   "id": "060981d3-8d29-4bdb-831e-214bc7494303",
   "metadata": {},
   "outputs": [],
   "source": [
    "#9 . If your programme is stuck in an endless loop, what keys you’ll press?"
   ]
  },
  {
   "cell_type": "code",
   "execution_count": 56,
   "id": "cf1f5292-bebe-43f6-a9f5-0a5c59d1d128",
   "metadata": {},
   "outputs": [],
   "source": [
    "# ctrl + c"
   ]
  },
  {
   "cell_type": "code",
   "execution_count": 57,
   "id": "c31a1c9a-a362-49db-8f2e-22c083448c81",
   "metadata": {},
   "outputs": [],
   "source": [
    "#10 . How can you tell the difference between break and continue?"
   ]
  },
  {
   "cell_type": "code",
   "execution_count": 58,
   "id": "1357c756-248f-4c2a-b30d-61b54a159680",
   "metadata": {},
   "outputs": [],
   "source": [
    "# break : it will break the loop and execute after the loop. \n",
    "# continue : this will start the loop again from starting ."
   ]
  },
  {
   "cell_type": "code",
   "execution_count": 60,
   "id": "a1559d9c-9341-4221-b0fb-6114bf6d12ab",
   "metadata": {},
   "outputs": [
    {
     "name": "stdout",
     "output_type": "stream",
     "text": [
      "0\n",
      "1\n",
      "2\n",
      "***Break***\n",
      "0\n",
      "1\n",
      "2\n",
      "4\n"
     ]
    }
   ],
   "source": [
    "#Eg. \n",
    "for i in range( 5) :\n",
    "    if i == 3:\n",
    "        break\n",
    "    print(i)\n",
    "    \n",
    "print(\"***Break***\")\n",
    "\n",
    "for i in range(5):\n",
    "    if i == 3:\n",
    "        continue\n",
    "    print(i)    "
   ]
  },
  {
   "cell_type": "code",
   "execution_count": 61,
   "id": "a6632d15-65cb-427a-ae36-afde57af930f",
   "metadata": {},
   "outputs": [],
   "source": [
    "#11. In a for loop, what is the difference between range(10), range(0, 10), and range(0, 10, 1)?"
   ]
  },
  {
   "cell_type": "code",
   "execution_count": 62,
   "id": "87fdf62c-3353-4c60-a7b1-ecf52b49eba1",
   "metadata": {},
   "outputs": [],
   "source": [
    "# range(10) : it starts from 0 to 9 , range(0 , 10) : it also starts from 0 upto 9 , range(0, 10 , 1) : it again starts from 0 to 9 and tell the loops to increase by 1 variable in each iteration. "
   ]
  },
  {
   "cell_type": "code",
   "execution_count": 64,
   "id": "23c183f9-fc33-4b04-9228-3245bc4b5017",
   "metadata": {},
   "outputs": [
    {
     "name": "stdout",
     "output_type": "stream",
     "text": [
      "0\n",
      "1\n",
      "2\n",
      "3\n",
      "4\n",
      "5\n",
      "6\n",
      "7\n",
      "8\n",
      "9\n",
      "********\n",
      "0\n",
      "1\n",
      "2\n",
      "3\n",
      "4\n",
      "5\n",
      "6\n",
      "7\n",
      "8\n",
      "9\n",
      "#########\n",
      "0\n",
      "1\n",
      "2\n",
      "3\n",
      "4\n",
      "5\n",
      "6\n",
      "7\n",
      "8\n",
      "9\n"
     ]
    }
   ],
   "source": [
    "for i in range(10):\n",
    "    print(i)\n",
    "    \n",
    "print(\"********\")    \n",
    "for i in range(0 ,10):\n",
    "    print(i)\n",
    "    \n",
    "print(\"#########\")\n",
    "for i in range(0 ,10, 1):\n",
    "    print(i)"
   ]
  },
  {
   "cell_type": "code",
   "execution_count": null,
   "id": "b7e8eb8b-2503-469a-88f0-d9ae6f86e965",
   "metadata": {},
   "outputs": [],
   "source": [
    "#12 . Write a short program that prints the numbers 1 to 10 using a for loop. Then write an equivalent program that prints the numbers 1 to 10 using a while loop."
   ]
  },
  {
   "cell_type": "code",
   "execution_count": null,
   "id": "33e9fe1f-c970-411b-a8c6-ba8556483aea",
   "metadata": {},
   "outputs": [],
   "source": [
    "for i in range(1 , 11):\n",
    "    print(i)\n",
    "    \n",
    "    \n",
    "print(\"*******\")\n",
    "\n",
    "i = 1\n",
    "while(i<11):\n",
    "    print(i)\n",
    "    i = i + 1\n"
   ]
  },
  {
   "cell_type": "code",
   "execution_count": null,
   "id": "bac8e4fd-f2ca-4ee4-98d3-c2d5f5245811",
   "metadata": {},
   "outputs": [],
   "source": [
    "#13 . If you had a function named bacon() inside a module named spam, how would you call it after importing spam?"
   ]
  },
  {
   "cell_type": "code",
   "execution_count": null,
   "id": "55098b6b-3e75-4041-94ea-55f1e7b9d102",
   "metadata": {},
   "outputs": [],
   "source": [
    "# spam.bacon()"
   ]
  },
  {
   "cell_type": "code",
   "execution_count": null,
   "id": "fc075322-664b-4bff-8e13-afe2f9a4dd07",
   "metadata": {},
   "outputs": [],
   "source": []
  }
 ],
 "metadata": {
  "kernelspec": {
   "display_name": "Python 3 (ipykernel)",
   "language": "python",
   "name": "python3"
  },
  "language_info": {
   "codemirror_mode": {
    "name": "ipython",
    "version": 3
   },
   "file_extension": ".py",
   "mimetype": "text/x-python",
   "name": "python",
   "nbconvert_exporter": "python",
   "pygments_lexer": "ipython3",
   "version": "3.10.6"
  }
 },
 "nbformat": 4,
 "nbformat_minor": 5
}
