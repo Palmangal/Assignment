{
 "cells": [
  {
   "cell_type": "code",
   "execution_count": 1,
   "id": "62c7e95c-ccc7-4e33-bcce-69234fd21bfc",
   "metadata": {},
   "outputs": [],
   "source": [
    "def test1():\n",
    "    a = 5+6\n",
    "    return a"
   ]
  },
  {
   "cell_type": "code",
   "execution_count": 3,
   "id": "7b20952c-4eec-49be-b126-d78c4c75fb94",
   "metadata": {},
   "outputs": [
    {
     "data": {
      "text/plain": [
       "11"
      ]
     },
     "execution_count": 3,
     "metadata": {},
     "output_type": "execute_result"
    }
   ],
   "source": [
    "test1()"
   ]
  },
  {
   "cell_type": "code",
   "execution_count": 5,
   "id": "6c71831e-243f-43d3-8b5b-a893c882218f",
   "metadata": {},
   "outputs": [],
   "source": [
    "def test2(a,b):\n",
    "    return a+b"
   ]
  },
  {
   "cell_type": "code",
   "execution_count": 6,
   "id": "dd0afd2f-42e9-49bd-bd41-2e3ef5e1f17e",
   "metadata": {},
   "outputs": [
    {
     "data": {
      "text/plain": [
       "10"
      ]
     },
     "execution_count": 6,
     "metadata": {},
     "output_type": "execute_result"
    }
   ],
   "source": [
    "test2(2,8)"
   ]
  },
  {
   "cell_type": "code",
   "execution_count": 7,
   "id": "1e37d652-8b57-48cf-9c50-0c9488042754",
   "metadata": {},
   "outputs": [
    {
     "data": {
      "text/plain": [
       "'pallman'"
      ]
     },
     "execution_count": 7,
     "metadata": {},
     "output_type": "execute_result"
    }
   ],
   "source": [
    "test2(\"pall\" , \"man\")"
   ]
  },
  {
   "cell_type": "code",
   "execution_count": 8,
   "id": "d6720eb5-1348-47dd-bb58-a3993c897c18",
   "metadata": {},
   "outputs": [
    {
     "data": {
      "text/plain": [
       "'gyedgpall'"
      ]
     },
     "execution_count": 8,
     "metadata": {},
     "output_type": "execute_result"
    }
   ],
   "source": [
    "test2(b = \"pall\" , a = \"gyedg\")"
   ]
  },
  {
   "cell_type": "code",
   "execution_count": 9,
   "id": "979ce460-d190-4c6b-9258-6ae887dd8c14",
   "metadata": {},
   "outputs": [],
   "source": [
    "def test3(*args): # * means any number of inputs \n",
    "    return args"
   ]
  },
  {
   "cell_type": "code",
   "execution_count": 12,
   "id": "d551c2db-412b-4fed-ac61-b4cd4cbc1728",
   "metadata": {},
   "outputs": [
    {
     "data": {
      "text/plain": [
       "tuple"
      ]
     },
     "execution_count": 12,
     "metadata": {},
     "output_type": "execute_result"
    }
   ],
   "source": [
    "type(test3(3,4,5,6,7,\"pallavi\"))"
   ]
  },
  {
   "cell_type": "code",
   "execution_count": 13,
   "id": "122a81fe-0fd1-4d6f-9afc-9598b2e58b69",
   "metadata": {},
   "outputs": [
    {
     "data": {
      "text/plain": [
       "([1, 2, 3, 5, 6], 'Pallavi', (5+7j), (6, 7, 9))"
      ]
     },
     "execution_count": 13,
     "metadata": {},
     "output_type": "execute_result"
    }
   ],
   "source": [
    "test3([1,2,3,5,6] , \"Pallavi\" , 5+7j , (6,7,9))"
   ]
  },
  {
   "cell_type": "code",
   "execution_count": 2,
   "id": "4b12032e-cdce-48ea-a245-be756b2d42c3",
   "metadata": {},
   "outputs": [],
   "source": [
    "def test4(*args):\n",
    "    return list(args)"
   ]
  },
  {
   "cell_type": "code",
   "execution_count": 3,
   "id": "f7730236-27c3-4436-af34-843bc8efc23b",
   "metadata": {},
   "outputs": [
    {
     "data": {
      "text/plain": [
       "list"
      ]
     },
     "execution_count": 3,
     "metadata": {},
     "output_type": "execute_result"
    }
   ],
   "source": [
    "type(test4(\"pall\" , True , 6+8j , 33.88 , (6,8)))"
   ]
  },
  {
   "cell_type": "code",
   "execution_count": 4,
   "id": "6ddbb4ef-d1c7-42ff-939a-eadd23c849f6",
   "metadata": {},
   "outputs": [
    {
     "data": {
      "text/plain": [
       "[4, 5, 6, 7]"
      ]
     },
     "execution_count": 4,
     "metadata": {},
     "output_type": "execute_result"
    }
   ],
   "source": [
    "test4(4,5,6,7)"
   ]
  },
  {
   "cell_type": "code",
   "execution_count": 5,
   "id": "26acc653-b338-406c-b3a6-d0f01241082a",
   "metadata": {},
   "outputs": [],
   "source": [
    "def test5(*args):\n",
    "    l = []\n",
    "    for i in args:\n",
    "        l.append(i)\n",
    "    return l    "
   ]
  },
  {
   "cell_type": "code",
   "execution_count": 6,
   "id": "ff0bb64a-cb5a-41ce-9fe4-ba0da74fbcd9",
   "metadata": {},
   "outputs": [
    {
     "data": {
      "text/plain": [
       "[22, 44, 55, 'ppa']"
      ]
     },
     "execution_count": 6,
     "metadata": {},
     "output_type": "execute_result"
    }
   ],
   "source": [
    "test5(22,44,55,\"ppa\")"
   ]
  },
  {
   "cell_type": "code",
   "execution_count": 7,
   "id": "399182c2-dc4b-4453-bdae-b7938a96d383",
   "metadata": {},
   "outputs": [],
   "source": [
    "def test6(*pall):\n",
    "    return list(pall)"
   ]
  },
  {
   "cell_type": "code",
   "execution_count": 9,
   "id": "9b7d7b3e-31bd-43e0-9854-98bc8c0712a9",
   "metadata": {},
   "outputs": [
    {
     "data": {
      "text/plain": [
       "[22, 44, 55, 'pall']"
      ]
     },
     "execution_count": 9,
     "metadata": {},
     "output_type": "execute_result"
    }
   ],
   "source": [
    "test6(22,44,55,\"pall\")"
   ]
  },
  {
   "cell_type": "code",
   "execution_count": 1,
   "id": "eafe5e7c-3a0f-435d-a0ae-f5e9eb3a2fe3",
   "metadata": {},
   "outputs": [],
   "source": [
    "s = {1,2,2,34,55,55,6,7,7,8}"
   ]
  },
  {
   "cell_type": "code",
   "execution_count": 3,
   "id": "c1cb41dc-e304-4462-9bd6-87ecea91ac6d",
   "metadata": {
    "tags": []
   },
   "outputs": [
    {
     "data": {
      "text/plain": [
       "{1, 2, 6, 7, 8, 34, 55}"
      ]
     },
     "execution_count": 3,
     "metadata": {},
     "output_type": "execute_result"
    }
   ],
   "source": [
    "s"
   ]
  },
  {
   "cell_type": "code",
   "execution_count": 4,
   "id": "35b82ae1-2d58-4ec5-af83-60b83affe540",
   "metadata": {},
   "outputs": [],
   "source": [
    "d = {}"
   ]
  },
  {
   "cell_type": "code",
   "execution_count": 5,
   "id": "771424bd-59cd-49bb-bd97-b5f88eafde6d",
   "metadata": {},
   "outputs": [
    {
     "data": {
      "text/plain": [
       "dict"
      ]
     },
     "execution_count": 5,
     "metadata": {},
     "output_type": "execute_result"
    }
   ],
   "source": [
    "type(d)"
   ]
  },
  {
   "cell_type": "code",
   "execution_count": 6,
   "id": "03c511d2-0926-454b-ad08-3adf8d98d11e",
   "metadata": {},
   "outputs": [],
   "source": [
    "d1 = {2,3,4,5}"
   ]
  },
  {
   "cell_type": "code",
   "execution_count": 7,
   "id": "cbc917d9-f448-4361-a327-1da17f277c5a",
   "metadata": {},
   "outputs": [
    {
     "data": {
      "text/plain": [
       "set"
      ]
     },
     "execution_count": 7,
     "metadata": {},
     "output_type": "execute_result"
    }
   ],
   "source": [
    "type(d1)"
   ]
  },
  {
   "cell_type": "code",
   "execution_count": 8,
   "id": "d2b0547e-5b09-4d5c-b0e9-3b8f45fecde9",
   "metadata": {},
   "outputs": [],
   "source": [
    "d2 = {\"key1\" :\"pall\" , \"key2\" : [2,3,4,6]}"
   ]
  },
  {
   "cell_type": "code",
   "execution_count": 9,
   "id": "409621bf-22c1-4cc4-b8b2-87936a051959",
   "metadata": {},
   "outputs": [
    {
     "data": {
      "text/plain": [
       "{'key1': 'pall', 'key2': [2, 3, 4, 6]}"
      ]
     },
     "execution_count": 9,
     "metadata": {},
     "output_type": "execute_result"
    }
   ],
   "source": [
    "d2\n"
   ]
  },
  {
   "cell_type": "code",
   "execution_count": 10,
   "id": "af4fe67b-767f-4ad3-8f02-4579f039c196",
   "metadata": {},
   "outputs": [],
   "source": [
    "d3 = { 333333 : \"pall\"}"
   ]
  },
  {
   "cell_type": "code",
   "execution_count": 11,
   "id": "b8b23d84-2a0a-4362-846d-ce3efe32efff",
   "metadata": {},
   "outputs": [
    {
     "data": {
      "text/plain": [
       "{333333: 'pall'}"
      ]
     },
     "execution_count": 11,
     "metadata": {},
     "output_type": "execute_result"
    }
   ],
   "source": [
    "d3"
   ]
  },
  {
   "cell_type": "code",
   "execution_count": 13,
   "id": "708e903a-1661-4c7c-8aef-4da07bf5ed22",
   "metadata": {},
   "outputs": [],
   "source": [
    "d4 = { \"$\" : \"pall\"}"
   ]
  },
  {
   "cell_type": "code",
   "execution_count": null,
   "id": "8b833ece-5968-49b0-870b-8c114c07a345",
   "metadata": {},
   "outputs": [],
   "source": []
  },
  {
   "cell_type": "code",
   "execution_count": 14,
   "id": "0ff6cb22-70c4-41d5-9c8e-b3dfa8a62c18",
   "metadata": {},
   "outputs": [
    {
     "data": {
      "text/plain": [
       "{'$': 'pall'}"
      ]
     },
     "execution_count": 14,
     "metadata": {},
     "output_type": "execute_result"
    }
   ],
   "source": [
    "d4"
   ]
  },
  {
   "cell_type": "code",
   "execution_count": 15,
   "id": "6fa0d0d7-2f41-4d50-94dc-14ca69518936",
   "metadata": {},
   "outputs": [
    {
     "ename": "TypeError",
     "evalue": "unhashable type: 'list'",
     "output_type": "error",
     "traceback": [
      "\u001b[0;31m---------------------------------------------------------------------------\u001b[0m",
      "\u001b[0;31mTypeError\u001b[0m                                 Traceback (most recent call last)",
      "Cell \u001b[0;32mIn [15], line 1\u001b[0m\n\u001b[0;32m----> 1\u001b[0m d5 \u001b[38;5;241m=\u001b[39m {[\u001b[38;5;241m1\u001b[39m,\u001b[38;5;241m2\u001b[39m,\u001b[38;5;241m3\u001b[39m,\u001b[38;5;241m4\u001b[39m] : \u001b[38;5;124m\"\u001b[39m\u001b[38;5;124mpall\u001b[39m\u001b[38;5;124m\"\u001b[39m}\n",
      "\u001b[0;31mTypeError\u001b[0m: unhashable type: 'list'"
     ]
    }
   ],
   "source": [
    "d5 = {[1,2,3,4] : \"pall\"}"
   ]
  },
  {
   "cell_type": "code",
   "execution_count": 91,
   "id": "f6e30438-2a18-487c-a10d-1d7c1116b797",
   "metadata": {},
   "outputs": [],
   "source": [
    "d6 = {(3,4,5) : \"pall\"}"
   ]
  },
  {
   "cell_type": "code",
   "execution_count": 92,
   "id": "7243d537-3372-44b3-970b-2058e7386107",
   "metadata": {},
   "outputs": [
    {
     "ename": "TypeError",
     "evalue": "unhashable type: 'set'",
     "output_type": "error",
     "traceback": [
      "\u001b[0;31m---------------------------------------------------------------------------\u001b[0m",
      "\u001b[0;31mTypeError\u001b[0m                                 Traceback (most recent call last)",
      "Cell \u001b[0;32mIn [92], line 1\u001b[0m\n\u001b[0;32m----> 1\u001b[0m d7 \u001b[38;5;241m=\u001b[39m {{\u001b[38;5;241m1\u001b[39m,\u001b[38;5;241m2\u001b[39m,\u001b[38;5;241m3\u001b[39m} : \u001b[38;5;124m\"\u001b[39m\u001b[38;5;124mpall\u001b[39m\u001b[38;5;124m\"\u001b[39m}\n",
      "\u001b[0;31mTypeError\u001b[0m: unhashable type: 'set'"
     ]
    }
   ],
   "source": [
    "d7 = {{1,2,3} : \"pall\"}"
   ]
  },
  {
   "cell_type": "code",
   "execution_count": 93,
   "id": "663afc59-0ce3-42e8-9ba0-522a8639c352",
   "metadata": {},
   "outputs": [],
   "source": [
    "d8 = {\"name \" : \"pallavi\" , \"org\" : \"ineuron\" , \"name\" : \"pall\" , \"mail\" : \"pall\"}"
   ]
  },
  {
   "cell_type": "code",
   "execution_count": 94,
   "id": "2dfe1efa-af51-4ead-9a65-247652c90432",
   "metadata": {},
   "outputs": [
    {
     "data": {
      "text/plain": [
       "{'name ': 'pallavi', 'org': 'ineuron', 'name': 'pall', 'mail': 'pall'}"
      ]
     },
     "execution_count": 94,
     "metadata": {},
     "output_type": "execute_result"
    }
   ],
   "source": [
    "d8"
   ]
  },
  {
   "cell_type": "code",
   "execution_count": 95,
   "id": "f23f6325-fd48-4f8a-8ae2-f447c96dcd1d",
   "metadata": {},
   "outputs": [],
   "source": [
    "d9 = {\"name\" : \"pall\" , \"mentor\" : {\"fsds\" : \"sudh\" , \"boot\" : \"krish\" , \"bigdata\" : \"pallavi\"}}"
   ]
  },
  {
   "cell_type": "code",
   "execution_count": 96,
   "id": "4bcd3375-34eb-421c-9fc1-8992db08081c",
   "metadata": {},
   "outputs": [
    {
     "data": {
      "text/plain": [
       "{'name': 'pall',\n",
       " 'mentor': {'fsds': 'sudh', 'boot': 'krish', 'bigdata': 'pallavi'}}"
      ]
     },
     "execution_count": 96,
     "metadata": {},
     "output_type": "execute_result"
    }
   ],
   "source": [
    "d9"
   ]
  },
  {
   "cell_type": "code",
   "execution_count": 97,
   "id": "df5f3831-0512-43b7-a285-36f305b93531",
   "metadata": {},
   "outputs": [
    {
     "data": {
      "text/plain": [
       "'pall'"
      ]
     },
     "execution_count": 97,
     "metadata": {},
     "output_type": "execute_result"
    }
   ],
   "source": [
    "d8['mail']"
   ]
  },
  {
   "cell_type": "code",
   "execution_count": 98,
   "id": "535afe21-9680-456d-afe3-ed3ced7bea2c",
   "metadata": {},
   "outputs": [
    {
     "data": {
      "text/plain": [
       "'ineuron'"
      ]
     },
     "execution_count": 98,
     "metadata": {},
     "output_type": "execute_result"
    }
   ],
   "source": [
    "d8['org']"
   ]
  },
  {
   "cell_type": "code",
   "execution_count": 99,
   "id": "6185b097-b3ca-451c-9a80-60059b4dc15a",
   "metadata": {},
   "outputs": [
    {
     "data": {
      "text/plain": [
       "'ineuron'"
      ]
     },
     "execution_count": 99,
     "metadata": {},
     "output_type": "execute_result"
    }
   ],
   "source": [
    "d8[\"org\"]"
   ]
  },
  {
   "cell_type": "code",
   "execution_count": 100,
   "id": "c1ea799a-b51a-48b5-a1f8-70beaa536470",
   "metadata": {},
   "outputs": [
    {
     "data": {
      "text/plain": [
       "'pallavi'"
      ]
     },
     "execution_count": 100,
     "metadata": {},
     "output_type": "execute_result"
    }
   ],
   "source": [
    "d9['mentor']['bigdata']"
   ]
  },
  {
   "cell_type": "code",
   "execution_count": 101,
   "id": "e28d1053-8fcc-4c8c-9151-c094cd78c75f",
   "metadata": {},
   "outputs": [
    {
     "data": {
      "text/plain": [
       "['name', 'mentor']"
      ]
     },
     "execution_count": 101,
     "metadata": {},
     "output_type": "execute_result"
    }
   ],
   "source": [
    "list(d9.keys())"
   ]
  },
  {
   "cell_type": "code",
   "execution_count": 102,
   "id": "b408f0ee-731d-42de-9a4d-8d78bc54feac",
   "metadata": {},
   "outputs": [
    {
     "data": {
      "text/plain": [
       "['pall', {'fsds': 'sudh', 'boot': 'krish', 'bigdata': 'pallavi'}]"
      ]
     },
     "execution_count": 102,
     "metadata": {},
     "output_type": "execute_result"
    }
   ],
   "source": [
    "list(d9.values())"
   ]
  },
  {
   "cell_type": "code",
   "execution_count": 103,
   "id": "54f9a21e-3986-46f3-9f54-8d893ba73c8d",
   "metadata": {},
   "outputs": [
    {
     "data": {
      "text/plain": [
       "dict_items([('name ', 'pallavi'), ('org', 'ineuron'), ('name', 'pall'), ('mail', 'pall')])"
      ]
     },
     "execution_count": 103,
     "metadata": {},
     "output_type": "execute_result"
    }
   ],
   "source": [
    "d8.items()"
   ]
  },
  {
   "cell_type": "code",
   "execution_count": 104,
   "id": "1c687a0f-23bd-4f48-a8b9-55506f6774c3",
   "metadata": {},
   "outputs": [
    {
     "data": {
      "text/plain": [
       "['sudh', 'krish', 'pallavi']"
      ]
     },
     "execution_count": 104,
     "metadata": {},
     "output_type": "execute_result"
    }
   ],
   "source": [
    "list(d9['mentor'].values())"
   ]
  },
  {
   "cell_type": "code",
   "execution_count": 105,
   "id": "0cbfd79a-2258-4d20-b6a8-8b99f593485c",
   "metadata": {},
   "outputs": [
    {
     "data": {
      "text/plain": [
       "{'name ': 'pallavi', 'org': 'ineuron', 'name': 'pall', 'mail': 'pall'}"
      ]
     },
     "execution_count": 105,
     "metadata": {},
     "output_type": "execute_result"
    }
   ],
   "source": [
    "d8"
   ]
  },
  {
   "cell_type": "code",
   "execution_count": 106,
   "id": "85c6be0e-e479-4a95-bbbb-f29d113f97fd",
   "metadata": {},
   "outputs": [
    {
     "data": {
      "text/plain": [
       "{'name': 'pall',\n",
       " 'mentor': {'fsds': 'sudh', 'boot': 'krish', 'bigdata': 'pallavi'}}"
      ]
     },
     "execution_count": 106,
     "metadata": {},
     "output_type": "execute_result"
    }
   ],
   "source": [
    "d9"
   ]
  },
  {
   "cell_type": "code",
   "execution_count": 107,
   "id": "1aff3a61-9294-4c3b-82d3-c0e680d66ec3",
   "metadata": {},
   "outputs": [
    {
     "ename": "AttributeError",
     "evalue": "'dict' object has no attribute 'value'",
     "output_type": "error",
     "traceback": [
      "\u001b[0;31m---------------------------------------------------------------------------\u001b[0m",
      "\u001b[0;31mAttributeError\u001b[0m                            Traceback (most recent call last)",
      "Cell \u001b[0;32mIn [107], line 4\u001b[0m\n\u001b[1;32m      2\u001b[0m \u001b[38;5;28;01mfor\u001b[39;00m i \u001b[38;5;129;01min\u001b[39;00m d9\u001b[38;5;241m.\u001b[39mkeys() :\n\u001b[1;32m      3\u001b[0m     \u001b[38;5;28;01mif\u001b[39;00m \u001b[38;5;28mtype\u001b[39m(d9[i]) \u001b[38;5;241m==\u001b[39m \u001b[38;5;28mdict\u001b[39m :\n\u001b[0;32m----> 4\u001b[0m         l\u001b[38;5;241m.\u001b[39mappend(\u001b[38;5;28mlist\u001b[39m(\u001b[43md9\u001b[49m\u001b[43m[\u001b[49m\u001b[43mi\u001b[49m\u001b[43m]\u001b[49m\u001b[38;5;241;43m.\u001b[39;49m\u001b[43mvalue\u001b[49m()))\n",
      "\u001b[0;31mAttributeError\u001b[0m: 'dict' object has no attribute 'value'"
     ]
    }
   ],
   "source": [
    "l = []\n",
    "for i in d9.keys() :\n",
    "    if type(d9[i]) == dict :\n",
    "        l.append(list(d9[i].value()))"
   ]
  },
  {
   "cell_type": "code",
   "execution_count": 108,
   "id": "5289bf22-a7e2-4143-b405-124fc3299aba",
   "metadata": {},
   "outputs": [
    {
     "data": {
      "text/plain": [
       "[]"
      ]
     },
     "execution_count": 108,
     "metadata": {},
     "output_type": "execute_result"
    }
   ],
   "source": [
    "l"
   ]
  },
  {
   "cell_type": "code",
   "execution_count": 109,
   "id": "67b306ca-6a78-494b-a9d1-a7899b6cc533",
   "metadata": {},
   "outputs": [],
   "source": [
    "d10 = { \"name\" : \"pall\" , \"mentor\" : {'fsds' : \"sudh\" , 'bigdata' : \"krish\" , 'mL' : \"Pallavi\" } }"
   ]
  },
  {
   "cell_type": "code",
   "execution_count": 110,
   "id": "09b07009-464a-4197-92ea-ac9f7a5dec47",
   "metadata": {},
   "outputs": [
    {
     "data": {
      "text/plain": [
       "{'name': 'pall',\n",
       " 'mentor': {'fsds': 'sudh', 'bigdata': 'krish', 'mL': 'Pallavi'}}"
      ]
     },
     "execution_count": 110,
     "metadata": {},
     "output_type": "execute_result"
    }
   ],
   "source": [
    "d10"
   ]
  },
  {
   "cell_type": "code",
   "execution_count": 111,
   "id": "018f8013-6c12-4804-a738-a999afcc556c",
   "metadata": {},
   "outputs": [
    {
     "data": {
      "text/plain": [
       "['sudh', 'krish', 'Pallavi']"
      ]
     },
     "execution_count": 111,
     "metadata": {},
     "output_type": "execute_result"
    }
   ],
   "source": [
    "list(d10['mentor'].values())"
   ]
  },
  {
   "cell_type": "code",
   "execution_count": 112,
   "id": "0db41ec4-2c88-44d9-a3f5-5c63e1621ef6",
   "metadata": {},
   "outputs": [],
   "source": [
    "l = []\n",
    "for i in d10.keys() :\n",
    "    if type(d10[i]) == dict :\n",
    "         l.append(list(d10[i].values()))"
   ]
  },
  {
   "cell_type": "code",
   "execution_count": 113,
   "id": "0ee58fb5-b124-4e2c-8a0a-c4868fba53e4",
   "metadata": {},
   "outputs": [
    {
     "data": {
      "text/plain": [
       "[['sudh', 'krish', 'Pallavi']]"
      ]
     },
     "execution_count": 113,
     "metadata": {},
     "output_type": "execute_result"
    }
   ],
   "source": [
    "l"
   ]
  },
  {
   "cell_type": "code",
   "execution_count": 114,
   "id": "1703a2b7-20fb-4be3-a227-0c4c8cde70ae",
   "metadata": {},
   "outputs": [
    {
     "name": "stdout",
     "output_type": "stream",
     "text": [
      "pall\n",
      "{'fsds': 'sudh', 'bigdata': 'krish', 'mL': 'Pallavi'}\n"
     ]
    }
   ],
   "source": [
    "l = []\n",
    "for i in d10.keys() :\n",
    "    print(d10[i])"
   ]
  },
  {
   "cell_type": "code",
   "execution_count": 115,
   "id": "c41c8047-1b9e-41f0-bf1d-897910bfb49d",
   "metadata": {},
   "outputs": [],
   "source": [
    "def test10(d):\n",
    "    l = []\n",
    "    for i in d.keys() :\n",
    "        if type(d[i]) == dict :\n",
    "            l.append(list(d[i].values()))\n",
    "    return l        "
   ]
  },
  {
   "cell_type": "code",
   "execution_count": 116,
   "id": "bdbb9ed6-e1a8-4670-a3bd-721b709dcf71",
   "metadata": {},
   "outputs": [
    {
     "data": {
      "text/plain": [
       "[['sudh', 'krish', 'pallavi']]"
      ]
     },
     "execution_count": 116,
     "metadata": {},
     "output_type": "execute_result"
    }
   ],
   "source": [
    "test10(d9)"
   ]
  },
  {
   "cell_type": "code",
   "execution_count": 117,
   "id": "7a80341c-6dd8-4879-b5f0-cad42b889ebb",
   "metadata": {},
   "outputs": [],
   "source": [
    "d10[\"mb\"] = [22,44,55]"
   ]
  },
  {
   "cell_type": "code",
   "execution_count": 118,
   "id": "8a273f01-7c45-4340-81c8-7d339e42da80",
   "metadata": {},
   "outputs": [
    {
     "data": {
      "text/plain": [
       "{'name': 'pall',\n",
       " 'mentor': {'fsds': 'sudh', 'bigdata': 'krish', 'mL': 'Pallavi'},\n",
       " 'mb': [22, 44, 55]}"
      ]
     },
     "execution_count": 118,
     "metadata": {},
     "output_type": "execute_result"
    }
   ],
   "source": [
    "d10"
   ]
  },
  {
   "cell_type": "code",
   "execution_count": 119,
   "id": "bd4e970e-036b-41e4-8ce8-30ddfea80a11",
   "metadata": {},
   "outputs": [],
   "source": [
    "d10[\"name\"] = \"Pallavi mangal\""
   ]
  },
  {
   "cell_type": "code",
   "execution_count": 120,
   "id": "8a6dbb78-2d3f-491b-aa43-e291f6a39d23",
   "metadata": {},
   "outputs": [
    {
     "data": {
      "text/plain": [
       "{'name': 'Pallavi mangal',\n",
       " 'mentor': {'fsds': 'sudh', 'bigdata': 'krish', 'mL': 'Pallavi'},\n",
       " 'mb': [22, 44, 55]}"
      ]
     },
     "execution_count": 120,
     "metadata": {},
     "output_type": "execute_result"
    }
   ],
   "source": [
    "d10"
   ]
  },
  {
   "cell_type": "code",
   "execution_count": 122,
   "id": "75f69b1f-e562-4e10-ab82-f44138b05b15",
   "metadata": {},
   "outputs": [
    {
     "data": {
      "text/plain": [
       "{(3, 4, 5): 'pall'}"
      ]
     },
     "execution_count": 122,
     "metadata": {},
     "output_type": "execute_result"
    }
   ],
   "source": [
    "d6\n"
   ]
  },
  {
   "cell_type": "code",
   "execution_count": 123,
   "id": "051c1b99-86b4-4847-a8a8-18554b1024ca",
   "metadata": {},
   "outputs": [],
   "source": [
    "del d6"
   ]
  },
  {
   "cell_type": "code",
   "execution_count": 124,
   "id": "165acb6e-a9fe-4b43-9487-1cf6f7f9f2ed",
   "metadata": {},
   "outputs": [
    {
     "ename": "NameError",
     "evalue": "name 'd6' is not defined",
     "output_type": "error",
     "traceback": [
      "\u001b[0;31m---------------------------------------------------------------------------\u001b[0m",
      "\u001b[0;31mNameError\u001b[0m                                 Traceback (most recent call last)",
      "Cell \u001b[0;32mIn [124], line 1\u001b[0m\n\u001b[0;32m----> 1\u001b[0m \u001b[43md6\u001b[49m\n",
      "\u001b[0;31mNameError\u001b[0m: name 'd6' is not defined"
     ]
    }
   ],
   "source": [
    "d6"
   ]
  },
  {
   "cell_type": "code",
   "execution_count": 125,
   "id": "7ba6767a-3f00-47c0-87c5-c6b18d14d5ef",
   "metadata": {},
   "outputs": [],
   "source": [
    "del d8['name']"
   ]
  },
  {
   "cell_type": "code",
   "execution_count": 126,
   "id": "d3a2b877-a322-420b-bafa-d0f4911d0498",
   "metadata": {},
   "outputs": [
    {
     "data": {
      "text/plain": [
       "{'name ': 'pallavi', 'org': 'ineuron', 'mail': 'pall'}"
      ]
     },
     "execution_count": 126,
     "metadata": {},
     "output_type": "execute_result"
    }
   ],
   "source": [
    "d8"
   ]
  },
  {
   "cell_type": "code",
   "execution_count": 127,
   "id": "a2385f9b-a06a-4d41-aae9-cb403c6cb1b7",
   "metadata": {},
   "outputs": [],
   "source": [
    "del d10['name']"
   ]
  },
  {
   "cell_type": "code",
   "execution_count": 128,
   "id": "a0055bb0-0c9c-4b89-b877-10710d9484a3",
   "metadata": {},
   "outputs": [
    {
     "data": {
      "text/plain": [
       "{'mentor': {'fsds': 'sudh', 'bigdata': 'krish', 'mL': 'Pallavi'},\n",
       " 'mb': [22, 44, 55]}"
      ]
     },
     "execution_count": 128,
     "metadata": {},
     "output_type": "execute_result"
    }
   ],
   "source": [
    "d10"
   ]
  },
  {
   "cell_type": "code",
   "execution_count": 129,
   "id": "dc086392-8ce0-4b41-b8b8-2b5f77a971e4",
   "metadata": {},
   "outputs": [
    {
     "data": {
      "text/plain": [
       "[22, 44, 55]"
      ]
     },
     "execution_count": 129,
     "metadata": {},
     "output_type": "execute_result"
    }
   ],
   "source": [
    "d10.pop('mb')"
   ]
  },
  {
   "cell_type": "code",
   "execution_count": 130,
   "id": "e0dfa293-de56-43d8-a57a-e6e342bf9f5f",
   "metadata": {},
   "outputs": [
    {
     "data": {
      "text/plain": [
       "{'mentor': {'fsds': 'sudh', 'bigdata': 'krish', 'mL': 'Pallavi'}}"
      ]
     },
     "execution_count": 130,
     "metadata": {},
     "output_type": "execute_result"
    }
   ],
   "source": [
    "d10"
   ]
  },
  {
   "cell_type": "code",
   "execution_count": 132,
   "id": "f39298f3-dd69-4952-bcf2-8d0d65c43939",
   "metadata": {},
   "outputs": [],
   "source": [
    "d10[\"name\"] = \"pallavi\""
   ]
  },
  {
   "cell_type": "code",
   "execution_count": 133,
   "id": "0728f2d9-71b8-4259-a1b9-c7c716b2c445",
   "metadata": {},
   "outputs": [
    {
     "data": {
      "text/plain": [
       "{'mentor': {'fsds': 'sudh', 'bigdata': 'krish', 'mL': 'Pallavi'},\n",
       " 'name': 'pallavi'}"
      ]
     },
     "execution_count": 133,
     "metadata": {},
     "output_type": "execute_result"
    }
   ],
   "source": [
    "d10"
   ]
  },
  {
   "cell_type": "code",
   "execution_count": 3,
   "id": "06a8ef97-5a14-4962-830f-6d3d47654cbb",
   "metadata": {},
   "outputs": [],
   "source": [
    "def test11(**kwargs):\n",
    "    return kwargs\n",
    "    "
   ]
  },
  {
   "cell_type": "code",
   "execution_count": 4,
   "id": "058070b6-4871-4de9-a7e2-bc61e99be0ff",
   "metadata": {},
   "outputs": [
    {
     "data": {
      "text/plain": [
       "dict"
      ]
     },
     "execution_count": 4,
     "metadata": {},
     "output_type": "execute_result"
    }
   ],
   "source": [
    "type(test11(a= 4,b= 5, c = 6, pall = [1,2,3,4,5,5]))"
   ]
  },
  {
   "cell_type": "code",
   "execution_count": 5,
   "id": "feffc86b-cbd1-4560-a1c9-b7dc6f51298e",
   "metadata": {},
   "outputs": [
    {
     "data": {
      "text/plain": [
       "{'a': 4, 'b': 5, 'c': 6, 'pall': 'pallavi'}"
      ]
     },
     "execution_count": 5,
     "metadata": {},
     "output_type": "execute_result"
    }
   ],
   "source": [
    "test11(a= 4,b= 5, c = 6, pall = \"pallavi\" )"
   ]
  },
  {
   "cell_type": "code",
   "execution_count": 6,
   "id": "80806b6f-42d4-45ec-8f72-673c3fce68a6",
   "metadata": {},
   "outputs": [],
   "source": [
    "def test12(a) :\n",
    "    return a\n",
    "\n",
    "def test13(b) :\n",
    "    return b\n",
    "\n",
    "def test14(func) :\n",
    "    return func(\"pall\")\n",
    "    "
   ]
  },
  {
   "cell_type": "code",
   "execution_count": 7,
   "id": "ec585188-7b0f-473e-9538-5e5cf19b349d",
   "metadata": {},
   "outputs": [
    {
     "data": {
      "text/plain": [
       "'pall'"
      ]
     },
     "execution_count": 7,
     "metadata": {},
     "output_type": "execute_result"
    }
   ],
   "source": [
    "test14(test12)"
   ]
  },
  {
   "cell_type": "code",
   "execution_count": 8,
   "id": "d91a52c9-a2ed-45af-86f9-b44fa4ce6483",
   "metadata": {},
   "outputs": [
    {
     "data": {
      "text/plain": [
       "'pall'"
      ]
     },
     "execution_count": 8,
     "metadata": {},
     "output_type": "execute_result"
    }
   ],
   "source": [
    "test14(test13)"
   ]
  },
  {
   "cell_type": "code",
   "execution_count": 44,
   "id": "bc29a4fe-abdb-4ef1-a4ec-9c1e328fe74a",
   "metadata": {},
   "outputs": [],
   "source": [
    "def test12(a) :\n",
    "    return a\n",
    "\n",
    "def test13(*args) :\n",
    "    return args\n",
    "\n",
    "def test14(func) :\n",
    "    return func(\"palla\")\n",
    "    "
   ]
  },
  {
   "cell_type": "code",
   "execution_count": 45,
   "id": "3b91a61b-d02c-4516-b6ea-ea8defd491e4",
   "metadata": {},
   "outputs": [
    {
     "data": {
      "text/plain": [
       "'palla'"
      ]
     },
     "execution_count": 45,
     "metadata": {},
     "output_type": "execute_result"
    }
   ],
   "source": [
    "test14(test12)"
   ]
  },
  {
   "cell_type": "code",
   "execution_count": 46,
   "id": "e2814c41-2b8c-4f92-b6b0-869793a7fe3d",
   "metadata": {},
   "outputs": [
    {
     "data": {
      "text/plain": [
       "('palla',)"
      ]
     },
     "execution_count": 46,
     "metadata": {},
     "output_type": "execute_result"
    }
   ],
   "source": [
    "test14(test13)"
   ]
  },
  {
   "cell_type": "code",
   "execution_count": 47,
   "id": "8b090e94-0007-4eaa-8b47-95e3805b295e",
   "metadata": {},
   "outputs": [],
   "source": [
    "def test15(a) :\n",
    "    print(\"this is my test 15\")\n",
    "    \n",
    "    def test16() :\n",
    "        print(\"this is my test 16 \")\n",
    "        \n",
    "    def test17() :\n",
    "        print(\"this is my test 17\")\n",
    "      \n",
    "    if a == \"pallavi\" :\n",
    "        return test16()\n",
    "    elif a == \"kumar\" :\n",
    "        return test17()"
   ]
  },
  {
   "cell_type": "code",
   "execution_count": 48,
   "id": "7bc52f8a-657b-4db3-90ed-5a384e2e329e",
   "metadata": {},
   "outputs": [
    {
     "name": "stdout",
     "output_type": "stream",
     "text": [
      "this is my test 15\n"
     ]
    }
   ],
   "source": [
    "test15(\"mangal\")"
   ]
  },
  {
   "cell_type": "code",
   "execution_count": 49,
   "id": "c45bf158-6134-408d-9442-eabed1447e84",
   "metadata": {},
   "outputs": [],
   "source": [
    "def test13(*args) :\n",
    "    print(\"this is a return of test13\")"
   ]
  },
  {
   "cell_type": "code",
   "execution_count": 6,
   "id": "b3664538-a27b-4f61-b9dd-cd23dd73770f",
   "metadata": {},
   "outputs": [],
   "source": [
    "import os\n",
    "def test18(func) :\n",
    "    def test19():\n",
    "        print(\"i ma inside test 19 and this will behave as a decorator to any function that i am going to call it\")\n",
    "        print(os.getcwd())\n",
    "        func()\n",
    "    return test19"
   ]
  },
  {
   "cell_type": "code",
   "execution_count": 7,
   "id": "e12e21a5-64bc-46f8-8011-c22bf2022356",
   "metadata": {},
   "outputs": [
    {
     "ename": "NameError",
     "evalue": "name 'test13' is not defined",
     "output_type": "error",
     "traceback": [
      "\u001b[0;31m---------------------------------------------------------------------------\u001b[0m",
      "\u001b[0;31mNameError\u001b[0m                                 Traceback (most recent call last)",
      "Cell \u001b[0;32mIn [7], line 1\u001b[0m\n\u001b[0;32m----> 1\u001b[0m test18(\u001b[43mtest13\u001b[49m)\n",
      "\u001b[0;31mNameError\u001b[0m: name 'test13' is not defined"
     ]
    }
   ],
   "source": [
    "test18(test13)"
   ]
  },
  {
   "cell_type": "code",
   "execution_count": 8,
   "id": "746c2d51-8fb9-4d29-a4a2-173dde8ba464",
   "metadata": {},
   "outputs": [],
   "source": [
    "@test18\n",
    "def test20() :\n",
    "    print(\"this is my test20\")"
   ]
  },
  {
   "cell_type": "code",
   "execution_count": 9,
   "id": "865abd66-7d76-43a4-909b-9fe45050276b",
   "metadata": {},
   "outputs": [
    {
     "name": "stdout",
     "output_type": "stream",
     "text": [
      "i ma inside test 19 and this will behave as a decorator to any function that i am going to call it\n",
      "/home/jovyan/work\n",
      "this is my test20\n"
     ]
    }
   ],
   "source": [
    "test20()"
   ]
  },
  {
   "cell_type": "code",
   "execution_count": 10,
   "id": "6e9f6c82-a085-4a89-9760-78741bc0c760",
   "metadata": {},
   "outputs": [
    {
     "data": {
      "text/plain": [
       "<function __main__.test18.<locals>.test19()>"
      ]
     },
     "execution_count": 10,
     "metadata": {},
     "output_type": "execute_result"
    }
   ],
   "source": [
    "test18(test20)"
   ]
  },
  {
   "cell_type": "code",
   "execution_count": 11,
   "id": "75ccc581-8f36-4c9b-9c2d-8ae13eb14825",
   "metadata": {},
   "outputs": [
    {
     "data": {
      "text/plain": [
       "'/home/jovyan/work'"
      ]
     },
     "execution_count": 11,
     "metadata": {},
     "output_type": "execute_result"
    }
   ],
   "source": [
    "pwd()"
   ]
  },
  {
   "cell_type": "code",
   "execution_count": 12,
   "id": "01ec9151-cfc2-4f50-bd73-7a3868d588c3",
   "metadata": {},
   "outputs": [],
   "source": [
    "def test20(func) :\n",
    "    def test21():\n",
    "        func()\n",
    "        print(os.getcwd())\n",
    "    return test21    "
   ]
  },
  {
   "cell_type": "code",
   "execution_count": 15,
   "id": "f8ff0a43-ee24-474e-a26d-970c74425294",
   "metadata": {},
   "outputs": [],
   "source": [
    "@test18\n",
    "@test20\n",
    "def test22():\n",
    "    print(\"this will print inside test22\")"
   ]
  },
  {
   "cell_type": "code",
   "execution_count": 16,
   "id": "4a3924ef-01c6-4c17-a255-1c054f8c1a87",
   "metadata": {},
   "outputs": [
    {
     "name": "stdout",
     "output_type": "stream",
     "text": [
      "i ma inside test 19 and this will behave as a decorator to any function that i am going to call it\n",
      "/home/jovyan/work\n",
      "this will print inside test22\n",
      "/home/jovyan/work\n"
     ]
    }
   ],
   "source": [
    "test22()"
   ]
  },
  {
   "cell_type": "code",
   "execution_count": 17,
   "id": "c23a944d-fcf6-4c21-856f-8e262bf28627",
   "metadata": {},
   "outputs": [
    {
     "name": "stdout",
     "output_type": "stream",
     "text": [
      "hello\n",
      "0.00011849403381347656\n"
     ]
    }
   ],
   "source": [
    "import time\n",
    "\n",
    "start = time.time()\n",
    "print(\"hello\")\n",
    "end = time.time()\n",
    "print(end - start)"
   ]
  },
  {
   "cell_type": "code",
   "execution_count": 18,
   "id": "c0c481a8-a245-4381-bb05-5ca1c36e247d",
   "metadata": {},
   "outputs": [
    {
     "data": {
      "text/plain": [
       "1668523258.6772761"
      ]
     },
     "execution_count": 18,
     "metadata": {},
     "output_type": "execute_result"
    }
   ],
   "source": [
    "time.time()"
   ]
  },
  {
   "cell_type": "code",
   "execution_count": 24,
   "id": "0f76b92e-1d61-4734-b649-5daf6bb90005",
   "metadata": {},
   "outputs": [],
   "source": [
    "def test25(func) :\n",
    "    def test26():\n",
    "        print(\"This will give you execution time for function\")\n",
    "        start = time.time()\n",
    "        func()\n",
    "        print(func())\n",
    "        end = time.time()\n",
    "        print(end - start)\n",
    "    return test26    "
   ]
  },
  {
   "cell_type": "code",
   "execution_count": 28,
   "id": "7a559b16-411e-4385-b966-59ecc3ddeaa6",
   "metadata": {},
   "outputs": [],
   "source": [
    "@test25\n",
    "def test27():\n",
    "    \"\"\"\n",
    "    This is a function which wiull take a decorator.\n",
    "    \"\"\"\n",
    "    l = [4,5,6,7,8,8]\n",
    "    l1 = []\n",
    "    for i in l :\n",
    "        if type(i) == int :\n",
    "            l1.append(i)\n",
    "    return l1        "
   ]
  },
  {
   "cell_type": "code",
   "execution_count": 29,
   "id": "cd687393-6f88-4956-90d5-57546b783764",
   "metadata": {},
   "outputs": [
    {
     "name": "stdout",
     "output_type": "stream",
     "text": [
      "This will give you execution time for function\n",
      "[4, 5, 6, 7, 8, 8]\n",
      "1.71661376953125e-05\n"
     ]
    }
   ],
   "source": [
    "test27()"
   ]
  },
  {
   "cell_type": "code",
   "execution_count": null,
   "id": "6fd512bb-39b0-4be8-b597-0561f2665efa",
   "metadata": {},
   "outputs": [],
   "source": []
  }
 ],
 "metadata": {
  "kernelspec": {
   "display_name": "Python 3 (ipykernel)",
   "language": "python",
   "name": "python3"
  },
  "language_info": {
   "codemirror_mode": {
    "name": "ipython",
    "version": 3
   },
   "file_extension": ".py",
   "mimetype": "text/x-python",
   "name": "python",
   "nbconvert_exporter": "python",
   "pygments_lexer": "ipython3",
   "version": "3.10.6"
  }
 },
 "nbformat": 4,
 "nbformat_minor": 5
}
